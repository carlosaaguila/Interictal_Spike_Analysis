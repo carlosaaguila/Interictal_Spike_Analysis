{
 "cells": [
  {
   "cell_type": "code",
   "execution_count": 215,
   "id": "0643d71b-983a-4d9d-bce7-d9ab2705d2b6",
   "metadata": {},
   "outputs": [],
   "source": [
    "#establishing environment\n",
    "import matplotlib.pyplot as plt\n",
    "import numpy as np\n",
    "import pandas as pd\n",
    "import pickle\n",
    "import scipy\n",
    "from scipy.stats import pearsonr, ttest_rel, ttest_ind\n",
    "from numba import jit\n",
    "from scipy import signal as sig\n",
    "import matplotlib.patches as mpatches\n",
    "from scipy.io import loadmat, savemat\n",
    "from ieeg.auth import Session\n",
    "from math import isnan"
   ]
  },
  {
   "cell_type": "code",
   "execution_count": 79,
   "id": "d91e509a-33cd-4638-9593-276f7c21af6d",
   "metadata": {},
   "outputs": [],
   "source": [
    "### LOADS \n",
    "### CAT SPIKE DATA. CAT#_SINGLESPIKES OR CAT#_SPIKES\n",
    "\n",
    "with open(\"/Users/carlosaguila/PycharmProjects/CNT_Interictal_Spikes/Cat/cat_spikes/s_spikes/cat1_singlespikes_set.pkl\", \"rb\") as a:   #Unpickling\n",
    "    cat1_spikes_set = pickle.load(a)\n",
    "    \n",
    "with open(\"/Users/carlosaguila/PycharmProjects/CNT_Interictal_Spikes/CAT/cat_spikes/s_spikes/cat2_singlespikes_set.pkl\", \"rb\") as b:   # Unpickling\n",
    "    cat2_spikes_set = pickle.load(b)\n",
    "    \n",
    "with open(\"/Users/carlosaguila/PycharmProjects/CNT_Interictal_Spikes/CAT/cat_spikes/s_spikes/cat3_singlespikes_set.pkl\", \"rb\") as c:   #Unpickling\n",
    "    cat3_spikes_set = pickle.load(c)\n",
    "    \n",
    "with open(\"/Users/carlosaguila/PycharmProjects/CNT_Interictal_Spikes/CAT/cat_spikes/s_spikes/cat4_singlespikes_set.pkl\", \"rb\") as d:   # Unpickling\n",
    "    cat4_spikes_set = pickle.load(d)\n",
    "    \n",
    "with open(\"/Users/carlosaguila/PycharmProjects/CNT_Interictal_Spikes/CAT/cat_spikes/s_spikes/cat5_singlespikes_set.pkl\", \"rb\") as e:   # Unpickling\n",
    "    cat5_spikes_set = pickle.load(e)"
   ]
  },
  {
   "cell_type": "code",
   "execution_count": 80,
   "id": "434315fd-594d-4436-849f-3df2bc25201f",
   "metadata": {},
   "outputs": [],
   "source": [
    "np.warnings.filterwarnings('ignore', category=np.VisibleDeprecationWarning)\n",
    "\n",
    "zero = np.array([])\n",
    "cat1_spikes_set = np.array([np.asarray(cat1_spikes_set), zero])\n",
    "cat1_spikes_set = cat1_spikes_set.reshape((2,1))\n",
    "\n",
    "cat2_spikes_set = np.array([np.asarray(cat2_spikes_set), zero])\n",
    "cat2_spikes_set = cat2_spikes_set.reshape((2,1))\n",
    "\n",
    "cat3_spikes_set = np.array([np.asarray(cat3_spikes_set), zero])\n",
    "cat3_spikes_set = cat3_spikes_set.reshape((2,1))\n",
    "\n",
    "cat4_spikes_set = np.array([np.asarray(cat4_spikes_set), zero])\n",
    "cat4_spikes_set = cat4_spikes_set.reshape((2,1))\n",
    "\n",
    "cat5_spikes_set = np.array([np.asarray(cat5_spikes_set), zero])\n",
    "cat5_spikes_set = cat5_spikes_set.reshape((2,1))"
   ]
  },
  {
   "cell_type": "code",
   "execution_count": 81,
   "id": "f429bb75-26a7-4f8b-820a-f926e4f81c1d",
   "metadata": {},
   "outputs": [],
   "source": [
    "### LOADS .NPY FILES\n",
    "\n",
    "cat1_values = np.load(\"/Users/carlosaguila/PycharmProjects/CNT_Interictal_Spikes/Cat/cat_values/cat1_values.npy\",allow_pickle =True)\n",
    "cat2_values = np.load(\"/Users/carlosaguila/PycharmProjects/CNT_Interictal_Spikes/Cat/cat_values/cat2_values.npy\",allow_pickle =True)\n",
    "cat3_values = np.load(\"/Users/carlosaguila/PycharmProjects/CNT_Interictal_Spikes/Cat/cat_values/cat3_values.npy\",allow_pickle =True)\n",
    "cat4_values = np.load(\"/Users/carlosaguila/PycharmProjects/CNT_Interictal_Spikes/Cat/cat_values/cat4_values.npy\",allow_pickle =True)\n",
    "cat5_values = np.load(\"/Users/carlosaguila/PycharmProjects/CNT_Interictal_Spikes/Cat/cat_values/cat5_values.npy\",allow_pickle =True)"
   ]
  },
  {
   "cell_type": "code",
   "execution_count": 82,
   "id": "b5d4e09b-839f-449e-8458-26959caaefea",
   "metadata": {},
   "outputs": [],
   "source": [
    "#general chLabels\n",
    "cat1_chLabels = np.array([np.array([np.array((np.linspace(1,48,48)))])])\n",
    "cat2_chLabels = np.array([np.array([np.array((np.linspace(1,48,48)))])])\n",
    "cat3_chLabels = np.array([np.array([np.array((np.linspace(1,64,64)))])])\n",
    "cat4_chLabels = np.array([np.array([np.array((np.linspace(1,64,64)))])])\n",
    "cat5_chLabels = np.array([np.array([np.array((np.linspace(1,64,64)))])])\n"
   ]
  },
  {
   "cell_type": "code",
   "execution_count": 83,
   "id": "a5f89c7c-85fa-46b6-ad41-3e92ceb5bc21",
   "metadata": {},
   "outputs": [],
   "source": [
    "# consolidate the cat data into a file that works\n",
    "cat1 = {'values': cat1_values, 'seqs': cat1_spikes_set, 'chLabels': cat1_chLabels}\n",
    "cat2 = {'values': cat2_values, 'seqs': cat2_spikes_set, 'chLabels': cat2_chLabels}\n",
    "cat3 = {'values': cat3_values, 'seqs': cat3_spikes_set, 'chLabels': cat3_chLabels}\n",
    "cat4 = {'values': cat4_values, 'seqs': cat4_spikes_set, 'chLabels': cat4_chLabels}\n",
    "cat5 = {'values': cat5_values, 'seqs': cat5_spikes_set, 'chLabels': cat5_chLabels}\n"
   ]
  },
  {
   "cell_type": "code",
   "execution_count": 164,
   "id": "a6300414-710e-4a72-8514-33876cce8a5d",
   "metadata": {},
   "outputs": [],
   "source": [
    "#Cat1\n",
    "def mean_per_elec_catnum(cat1_spikes_set,cat1_values,cat1_chLabels):\n",
    "    mean_per_elec = [];\n",
    "    for ch in cat1_chLabels[0][0]:\n",
    "        values_per_ch = [];\n",
    "        pos = np.where(cat1_spikes_set[0][0][:,0] == ch)[0]\n",
    "        for i in pos:\n",
    "            values_per_ch.append(cat1_values[0][0][i])\n",
    "\n",
    "        mean_per_elec.append(np.mean(values_per_ch,axis=0))\n",
    "\n",
    "    return np.array(mean_per_elec)"
   ]
  },
  {
   "cell_type": "code",
   "execution_count": 171,
   "id": "90d71a0e-b907-45ba-bfbb-cffcbdf9baf9",
   "metadata": {},
   "outputs": [],
   "source": [
    "mean_per_elec_cat1 = mean_per_elec_catnum(cat1_spikes_set, cat1_values, cat1_chLabels)\n",
    "cat1_means = mean_per_elec_cat1[0:32]"
   ]
  },
  {
   "cell_type": "code",
   "execution_count": 172,
   "id": "30b70605-b29e-469c-be60-bcee74c98a3f",
   "metadata": {},
   "outputs": [],
   "source": [
    "mean_per_elec_cat2 = mean_per_elec_catnum(cat2_spikes_set, cat2_values, cat2_chLabels)\n",
    "cat2_means = mean_per_elec_cat2[0:32]"
   ]
  },
  {
   "cell_type": "code",
   "execution_count": 269,
   "id": "b3802da2-1e0e-4606-8c9a-1412467a6a6e",
   "metadata": {},
   "outputs": [
    {
     "name": "stderr",
     "output_type": "stream",
     "text": [
      "/Users/carlosaguila/opt/anaconda3/lib/python3.9/site-packages/numpy/core/fromnumeric.py:3419: RuntimeWarning: Mean of empty slice.\n",
      "  return _methods._mean(a, axis=axis, dtype=dtype,\n",
      "/Users/carlosaguila/opt/anaconda3/lib/python3.9/site-packages/numpy/core/_methods.py:188: RuntimeWarning: invalid value encountered in double_scalars\n",
      "  ret = ret.dtype.type(ret / rcount)\n"
     ]
    }
   ],
   "source": [
    "mean_per_elec_cat3 = mean_per_elec_catnum(cat3_spikes_set, cat3_values, cat3_chLabels)\n",
    "cat3_means = mean_per_elec_cat3[0:32]"
   ]
  },
  {
   "cell_type": "code",
   "execution_count": 272,
   "id": "67e6b5e5-c8de-4927-8d68-7cb1ad46afbd",
   "metadata": {},
   "outputs": [],
   "source": [
    "mean_per_elec_cat4 = mean_per_elec_catnum(cat4_spikes_set, cat4_values, cat4_chLabels)\n",
    "cat4_means = mean_per_elec_cat4[0:32]"
   ]
  },
  {
   "cell_type": "code",
   "execution_count": 273,
   "id": "1559c430-eaca-4ae1-a718-16c2f5ef2af5",
   "metadata": {},
   "outputs": [],
   "source": [
    "mean_per_elec_cat5 = mean_per_elec_catnum(cat5_spikes_set, cat5_values, cat5_chLabels)\n",
    "cat5_means = mean_per_elec_cat5[0:32]"
   ]
  },
  {
   "cell_type": "code",
   "execution_count": null,
   "id": "b59f026d-bb4c-4b38-b741-91ca695cf9e6",
   "metadata": {},
   "outputs": [],
   "source": [
    "file_cat = 'cat1_%s'\n",
    "file_type = '.png'\n",
    "for i in range(len(cat1_means)):\n",
    "    if cat1_means[i].size == 1:\n",
    "        plt.figure(figsize=[10,10])\n",
    "        x = np.linspace(0,2400,2400,endpoint=True)\n",
    "        y=np.zeros([2400,1])\n",
    "        plt.plot(x,y,'k')\n",
    "        plt.savefig('/Users/carlosaguila/PycharmProjects/CNT_Interictal_Spikes/Cat/Cat1_GRID_LINE/Cat1_%d.png' % (i+1), transparent=True)\n",
    "    else:\n",
    "        plt.figure(figsize=[10,10])\n",
    "        plt.plot(cat1_means[i],'k')\n",
    "        plt.ylim([-1700,500])\n",
    "        plt.savefig('/Users/carlosaguila/PycharmProjects/CNT_Interictal_Spikes/Cat/Cat1_GRID_LINE/Cat1_%d.png' % (i+1), transparent=True)"
   ]
  },
  {
   "cell_type": "code",
   "execution_count": 283,
   "id": "ac53ca1d-fb4b-408e-8dcb-5bb48797700a",
   "metadata": {},
   "outputs": [],
   "source": [
    "def save_EEG(filename,cat1_means,ylim):    \n",
    "    for i in range(len(cat1_means)):\n",
    "        if cat1_means[i].size == 1:\n",
    "            plt.figure(figsize=[10,10])\n",
    "            x = np.linspace(0,2400,2400,endpoint=True)\n",
    "            y=np.zeros([2400,1])\n",
    "            plt.plot(x,y,'k')\n",
    "            plt.savefig('/Users/carlosaguila/PycharmProjects/CNT_Interictal_Spikes/Cat/'+filename+'_%d.png' % (i+1), transparent=True)\n",
    "        else:\n",
    "            plt.figure(figsize=[10,10])\n",
    "            plt.plot(cat1_means[i],'k')\n",
    "            plt.ylim(ylim)\n",
    "            plt.savefig('/Users/carlosaguila/PycharmProjects/CNT_Interictal_Spikes/Cat/'+filename+'_%d.png' % (i+1), transparent=True)\n",
    "    return print('saved')"
   ]
  },
  {
   "cell_type": "code",
   "execution_count": null,
   "id": "d63d9fbd-1e39-411d-a931-0d69d76eb480",
   "metadata": {},
   "outputs": [],
   "source": [
    "filename = 'Cat2_GRID_LINE/Cat2'\n",
    "save_EEG(filename,cat2_means,[-2500,1200])"
   ]
  },
  {
   "cell_type": "code",
   "execution_count": null,
   "id": "f8eb5f24-fbb1-41d8-9ab4-987daa8cd280",
   "metadata": {},
   "outputs": [],
   "source": [
    "filename = 'Cat3_GRID_LINE/Cat3'\n",
    "save_EEG(filename,cat3_means,[-3600,1200])"
   ]
  },
  {
   "cell_type": "code",
   "execution_count": null,
   "id": "b7d8842d-0a44-46c3-95e0-523163575183",
   "metadata": {},
   "outputs": [],
   "source": [
    "filename = 'Cat4_GRID_LINE/Cat4'\n",
    "save_EEG(filename,cat4_means,[-3900,1200])"
   ]
  },
  {
   "cell_type": "code",
   "execution_count": null,
   "id": "db6c6419-cf68-48f1-856f-876750f47a0a",
   "metadata": {},
   "outputs": [],
   "source": [
    "filename = 'Cat5_GRID_LINE/Cat5'\n",
    "save_EEG(filename,cat5_means,[-3600,1500])"
   ]
  }
 ],
 "metadata": {
  "kernelspec": {
   "display_name": "Python 3 (ipykernel)",
   "language": "python",
   "name": "python3"
  },
  "language_info": {
   "codemirror_mode": {
    "name": "ipython",
    "version": 3
   },
   "file_extension": ".py",
   "mimetype": "text/x-python",
   "name": "python",
   "nbconvert_exporter": "python",
   "pygments_lexer": "ipython3",
   "version": "3.9.7"
  }
 },
 "nbformat": 4,
 "nbformat_minor": 5
}

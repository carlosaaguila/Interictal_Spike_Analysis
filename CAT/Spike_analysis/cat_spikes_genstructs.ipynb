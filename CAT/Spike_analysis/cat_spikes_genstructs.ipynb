{
 "cells": [
  {
   "cell_type": "code",
   "execution_count": 1,
   "id": "fadb6a31-86ee-4663-a8b3-c0bf850aa23b",
   "metadata": {},
   "outputs": [],
   "source": [
    "#establishing environment\n",
    "import matplotlib.pyplot as plt\n",
    "import numpy as np\n",
    "import pandas as pd\n",
    "import pickle\n",
    "import scipy\n",
    "from scipy.stats import pearsonr, ttest_rel, ttest_ind\n",
    "from scipy import signal as sig\n",
    "import matplotlib.patches as mpatches\n",
    "from scipy.io import loadmat, savemat\n",
    "from ieeg.auth import Session"
   ]
  },
  {
   "cell_type": "code",
   "execution_count": 2,
   "id": "d80e0e8f-4edc-4d1c-abb4-5cb7a46d6388",
   "metadata": {},
   "outputs": [],
   "source": [
    "#loads all the cat spikes before they are in the GDF\n",
    "#NOT NECESSARY TO LOAD AFTER GDFS ARE CREATED\n",
    "\n",
    "catspikes = loadmat('/Users/carlosaguila/PycharmProjects/CNT_Interictal_Spikes/Cat/Bink_files/catspikes.mat')\n",
    "numSpikes = catspikes['numSpikes'][0] #spike count per event\n",
    "spikeStart = catspikes['spikeStart'][0] #array of where the spike starts\n",
    "spikeStop = catspikes['spikeStop'][0] #spike ends\n",
    "evStart = catspikes['evStart'][0] #event starts\n",
    "evStop = catspikes['evStop'][0] #event stops\n"
   ]
  },
  {
   "cell_type": "code",
   "execution_count": null,
   "id": "48ccdf88-2ccb-464f-b261-f582f9d85a22",
   "metadata": {},
   "outputs": [],
   "source": [
    "#takes alot of indexing to get to te individual spike number\n",
    "cat1_spikes = []\n",
    "cat2_spikes = []\n",
    "cat3_spikes = []\n",
    "cat4_spikes = []\n",
    "cat5_spikes = []\n",
    "\n",
    "#code will try to recreate a gdf \n",
    "# works for single spikes or polyspikes with some modifications\n",
    "# single spikes if the logic says ('==1')   OR   polyspikes if logic says ('<= X')\n",
    "\n",
    "for i in range(5):\n",
    "    for n in range(len(numSpikes[i][0])): #per channel (n) in each experiment (i)\n",
    "        for x in range(len(numSpikes[i][0][n][0])): # (x) calls on every spike instance in a channel(n) in an experiment(i)\n",
    "            for L in range(len(numSpikes[i][0][n][0])):\n",
    "                if i == 0:\n",
    "                    if numSpikes[i][0][n][0][L] == 1:\n",
    "                        for q in range(len(spikeStart[i][0][n][0][L][0])):  \n",
    "                            cat1_spikes.append([n ,((spikeStart[i][0][n][0][L][0][q]+spikeStop[i][0][n][0][L][0][q])/2)])\n",
    "                if i == 1:\n",
    "                    if numSpikes[i][0][n][0][L] == 1:\n",
    "                        for q in range(len(spikeStart[i][0][n][0][L][0])):  \n",
    "                            cat2_spikes.append([n, ((spikeStart[i][0][n][0][L][0][q]+spikeStop[i][0][n][0][L][0][q])/2)])\n",
    "                if i == 2:\n",
    "                    if numSpikes[i][0][n][0][L] == 1:\n",
    "                        for q in range(len(spikeStart[i][0][n][0][L][0])):  \n",
    "                            cat3_spikes.append([n,((spikeStart[i][0][n][0][L][0][q]+spikeStop[i][0][n][0][L][0][q])/2)])\n",
    "                if i == 3:\n",
    "                    if numSpikes[i][0][n][0][L] == 1:\n",
    "                        for q in range(len(spikeStart[i][0][n][0][L][0])):  \n",
    "                            cat4_spikes.append([n,((spikeStart[i][0][n][0][L][0][q]+spikeStop[i][0][n][0][L][0][q])/2)])\n",
    "                else:\n",
    "                    if numSpikes[i][0][n][0][L] == 1:\n",
    "                          for q in range(len(spikeStart[i][0][n][0][L][0])):  \n",
    "                            cat5_spikes.append([n,((spikeStart[i][0][n][0][L][0][q]+spikeStop[i][0][n][0][L][0][q])/2)])"
   ]
  },
  {
   "cell_type": "code",
   "execution_count": null,
   "id": "25435e55-f981-4298-bae6-88cca55b1b54",
   "metadata": {},
   "outputs": [],
   "source": [
    "### SAVES\n",
    "### CAT SPIKE DATA. CAT#_SINGLESPIKES OR CAT#_SPIKES\n",
    "\n",
    "file1 = open(\"/Users/carlosaguila/PycharmProjects/CNT_Interictal_Spikes/Cat/cat_spikes/s_spikes/cat1_singlespikes.pkl\", \"wb\") \n",
    "pickle.dump(cat1_spikes, file1)\n",
    "file1.close\n",
    "\n",
    "file2 = open(\"/Users/carlosaguila/PycharmProjects/CNT_Interictal_Spikes/Cat/cat_spikes/s_spikes/cat2_singlespikes.pkl\",\"wb\")\n",
    "pickle.dump(cat2_spikes, file2)\n",
    "file2.close\n",
    "\n",
    "file3 = open(\"/Users/carlosaguila/PycharmProjects/CNT_Interictal_Spikes/Cat/cat_spikes/s_spikes/cat3_singlespikes.pkl\", \"wb\") \n",
    "pickle.dump(cat3_spikes, file3)\n",
    "file3.close\n",
    "\n",
    "file4 = open(\"/Users/carlosaguila/PycharmProjects/CNT_Interictal_Spikes/Cat/cat_spikes/s_spikes/cat4_singlespikes.pkl\", \"wb\") \n",
    "pickle.dump(cat4_spikes, file4)\n",
    "file4.close\n",
    "\n",
    "file5 = open(\"/Users/carlosaguila/PycharmProjects/CNT_Interictal_Spikes/Cat/cat_spikes/s_spikes/cat5_singlespikes.pkl\", \"wb\") \n",
    "pickle.dump(cat5_spikes, file5)\n",
    "file5.close"
   ]
  },
  {
   "cell_type": "code",
   "execution_count": 3,
   "id": "3b4d595f-d5d1-4aa0-900d-271dac6b3244",
   "metadata": {},
   "outputs": [],
   "source": [
    "### LOADS \n",
    "### CAT SPIKE DATA. CAT#_SINGLESPIKES OR CAT#_SPIKES\n",
    "\n",
    "with open(\"/Users/carlosaguila/PycharmProjects/CNT_Interictal_Spikes/Cat/cat_spikes/s_spikes/cat1_singlespikes.pkl\", \"rb\") as a:   #Unpickling\n",
    "    cat1_spikes = pickle.load(a)\n",
    "    \n",
    "with open(\"/Users/carlosaguila/PycharmProjects/CNT_Interictal_Spikes/Cat/cat_spikes/s_spikes/cat2_singlespikes.pkl\", \"rb\") as b:   # Unpickling\n",
    "    cat2_spikes = pickle.load(b)\n",
    "    \n",
    "with open(\"/Users/carlosaguila/PycharmProjects/CNT_Interictal_Spikes/Cat/cat_spikes/s_spikes/cat3_singlespikes.pkl\", \"rb\") as c:   #Unpickling\n",
    "    cat3_spikes = pickle.load(c)\n",
    "    \n",
    "with open(\"/Users/carlosaguila/PycharmProjects/CNT_Interictal_Spikes/Cat/cat_spikes/s_spikes/cat4_singlespikes.pkl\", \"rb\") as d:   # Unpickling\n",
    "    cat4_spikes = pickle.load(d)\n",
    "    \n",
    "with open(\"/Users/carlosaguila/PycharmProjects/CNT_Interictal_Spikes/Cat/cat_spikes/s_spikes/cat5_singlespikes.pkl\", \"rb\") as e:   # Unpickling\n",
    "    cat5_spikes = pickle.load(e)"
   ]
  },
  {
   "cell_type": "code",
   "execution_count": 3,
   "id": "648e1089-a8c4-4f5f-9942-3b99d02cd6f1",
   "metadata": {},
   "outputs": [
    {
     "name": "stdout",
     "output_type": "stream",
     "text": [
      "(220074, 2)\n",
      "(6923580, 2)\n",
      "(2988870, 2)\n",
      "(26599317, 2)\n",
      "(33771149, 2)\n"
     ]
    }
   ],
   "source": [
    "print(np.shape(cat1_spikes))\n",
    "print(np.shape(cat2_spikes))\n",
    "print(np.shape(cat3_spikes))\n",
    "print(np.shape(cat4_spikes))\n",
    "print(np.shape(cat5_spikes))"
   ]
  },
  {
   "cell_type": "code",
   "execution_count": 4,
   "id": "f6a68462-37f1-484d-b35f-95b7bacf07c3",
   "metadata": {},
   "outputs": [],
   "source": [
    "#take random 10000 spikes from the list\n",
    "import random\n",
    "random.seed(24)\n",
    "cat1_spikes_set = random.sample(cat1_spikes, 10000)\n",
    "cat2_spikes_set = random.sample(cat2_spikes, 10000)\n",
    "cat3_spikes_set = random.sample(cat3_spikes, 10000)\n",
    "cat4_spikes_set = random.sample(cat4_spikes, 10000)\n",
    "cat5_spikes_set = random.sample(cat5_spikes, 10000)\n"
   ]
  },
  {
   "cell_type": "code",
   "execution_count": 5,
   "id": "cf73cae0-0a8c-451a-9cc0-aee3bcc235a5",
   "metadata": {},
   "outputs": [
    {
     "name": "stdout",
     "output_type": "stream",
     "text": [
      "YES - STATE IS CONSISTENT\n"
     ]
    }
   ],
   "source": [
    "#check output is consistent\n",
    "\n",
    "expected_out = [[15, 4898831.5], [2, 12131930.5], [33, 4711990.5], [7, 9135029.0], [0, 3035343.0], [5, 5793836.0], [38, 12342886.5], [6, 3447119.0], [35, 4727777.5], [5, 3065130.5]]\n",
    "if expected_out == cat5_spikes_set[0:10]:\n",
    "    print('YES - STATE IS CONSISTENT')\n",
    "    "
   ]
  },
  {
   "cell_type": "code",
   "execution_count": null,
   "id": "fb873ad0-352b-496f-87de-58cdb5d7fbe9",
   "metadata": {},
   "outputs": [],
   "source": [
    "## add 1 to the channel's gdf to make it scale like it does in matlab (1-X)\n",
    "\n",
    "cat1_spikes_set = [[x[0]+1, x[1]] for x in cat1_spikes_set]\n",
    "cat2_spikes_set = [[x[0]+1, x[1]] for x in cat2_spikes_set]\n",
    "cat3_spikes_set = [[x[0]+1, x[1]] for x in cat3_spikes_set]\n",
    "cat4_spikes_set = [[x[0]+1, x[1]] for x in cat4_spikes_set]\n",
    "cat5_spikes_set = [[x[0]+1, x[1]] for x in cat5_spikes_set]\n"
   ]
  },
  {
   "cell_type": "code",
   "execution_count": null,
   "id": "ca2f2e6a-5be7-4f4e-abc8-cbe0cd066e1e",
   "metadata": {},
   "outputs": [],
   "source": [
    "### SAVES\n",
    "### CAT SPIKE DATA. CAT#_SINGLESPIKES OR CAT#_SPIKES\n",
    "\n",
    "file1 = open(\"/Users/carlosaguila/PycharmProjects/CNT_Interictal_Spikes/Cat/cat_spikes/s_spikes/cat1_singlespikes_set.pkl\", \"wb\") \n",
    "pickle.dump(cat1_spikes_set, file1)\n",
    "file1.close\n",
    "\n",
    "file2 = open(\"/Users/carlosaguila/PycharmProjects/CNT_Interictal_Spikes/Cat/cat_spikes/s_spikes/cat2_singlespikes_set.pkl\",\"wb\")\n",
    "pickle.dump(cat2_spikes_set, file2)\n",
    "file2.close\n",
    "\n",
    "file3 = open(\"/Users/carlosaguila/PycharmProjects/CNT_Interictal_Spikes/Cat/cat_spikes/s_spikes/cat3_singlespikes_set.pkl\", \"wb\") \n",
    "pickle.dump(cat3_spikes_set, file3)\n",
    "file3.close\n",
    "\n",
    "file4 = open(\"/Users/carlosaguila/PycharmProjects/CNT_Interictal_Spikes/Cat/cat_spikes/s_spikes/cat4_singlespikes_set.pkl\", \"wb\") \n",
    "pickle.dump(cat4_spikes_set, file4)\n",
    "file4.close\n",
    "\n",
    "file5 = open(\"/Users/carlosaguila/PycharmProjects/CNT_Interictal_Spikes/Cat/cat_spikes/s_spikes/cat5_singlespikes_set.pkl\", \"wb\") \n",
    "pickle.dump(cat5_spikes_set, file5)\n",
    "file5.close"
   ]
  },
  {
   "cell_type": "code",
   "execution_count": null,
   "id": "4f61ee5f-e5aa-4a24-b2e0-0a579d90da7b",
   "metadata": {},
   "outputs": [],
   "source": [
    "### LOADS \n",
    "### CAT SPIKE DATA. CAT#_SINGLESPIKES OR CAT#_SPIKES\n",
    "\n",
    "with open(\"/Users/carlosaguila/PycharmProjects/CNT_Interictal_Spikes/Cat/cat_spikes/s_spikes/cat1_singlespikes_set.pkl\", \"rb\") as a:   #Unpickling\n",
    "    cat1_spikes_set = pickle.load(a)\n",
    "    \n",
    "with open(\"/Users/carlosaguila/PycharmProjects/CNT_Interictal_Spikes/Cat/cat_spikes/s_spikes/cat2_singlespikes_set.pkl\", \"rb\") as b:   # Unpickling\n",
    "    cat2_spikes_set = pickle.load(b)\n",
    "    \n",
    "with open(\"/Users/carlosaguila/PycharmProjects/CNT_Interictal_Spikes/Cat/cat_spikes/s_spikes/cat3_singlespikes_set.pkl\", \"rb\") as c:   #Unpickling\n",
    "    cat3_spikes_set = pickle.load(c)\n",
    "    \n",
    "with open(\"/Users/carlosaguila/PycharmProjects/CNT_Interictal_Spikes/Cat/cat_spikes/s_spikes/cat4_singlespikes_set.pkl\", \"rb\") as d:   # Unpickling\n",
    "    cat4_spikes_set = pickle.load(d)\n",
    "    \n",
    "with open(\"/Users/carlosaguila/PycharmProjects/CNT_Interictal_Spikes/Cat/cat_spikes/s_spikes/cat5_singlespikes_set.pkl\", \"rb\") as e:   # Unpickling\n",
    "    cat5_spikes_set = pickle.load(e)"
   ]
  },
  {
   "cell_type": "code",
   "execution_count": 7,
   "id": "5fe96f26-0f0a-43a3-bc08-8134f6455e30",
   "metadata": {},
   "outputs": [
    {
     "name": "stdout",
     "output_type": "stream",
     "text": [
      "Requirement already satisfied: mat73 in /Users/carlosaguila/opt/anaconda3/lib/python3.9/site-packages (0.59)\n",
      "Requirement already satisfied: h5py in /Users/carlosaguila/opt/anaconda3/lib/python3.9/site-packages (from mat73) (3.2.1)\n",
      "Requirement already satisfied: numpy in /Users/carlosaguila/opt/anaconda3/lib/python3.9/site-packages (from mat73) (1.20.3)\n"
     ]
    }
   ],
   "source": [
    "#LOAD ALL THE VALUES PER CAT\n",
    "!pip install mat73\n",
    "import mat73\n",
    "\n",
    "cat1_values = mat73.loadmat('/Users/carlosaguila/PycharmProjects/CNT_Interictal_Spikes/Cat/cat_values/Exp1Unfilt.mat')\n",
    "cat2_values = mat73.loadmat('/Users/carlosaguila/PycharmProjects/CNT_Interictal_Spikes/Cat/cat_values/Exp2Unfilt.mat')\n",
    "cat3_values = mat73.loadmat('/Users/carlosaguila/PycharmProjects/CNT_Interictal_Spikes/Cat/cat_values/Exp3Unfilt.mat')\n",
    "cat4_values = mat73.loadmat('/Users/carlosaguila/PycharmProjects/CNT_Interictal_Spikes/Cat/cat_values/Exp4Unfilt.mat')\n",
    "cat5_values = mat73.loadmat('/Users/carlosaguila/PycharmProjects/CNT_Interictal_Spikes/Cat/cat_values/Exp5Unfilt.mat')"
   ]
  },
  {
   "cell_type": "code",
   "execution_count": null,
   "id": "e56dee6b-b786-4d53-81ac-bfd1b4ab786e",
   "metadata": {},
   "outputs": [],
   "source": [
    "print(np.shape(cat1_values['allEventData']))\n",
    "print(np.shape(cat1_spikes_set))\n",
    "print((cat1_spikes_set[0:10]))\n",
    "print(np.shape(cat1_values['allEventData'][1,:]))\n",
    "print(cat1_spikes_set[0][0])\n",
    "print(np.floor(20.03993))"
   ]
  },
  {
   "cell_type": "code",
   "execution_count": 8,
   "id": "7d5b75f1-2727-478e-9779-7a6ec1925540",
   "metadata": {},
   "outputs": [],
   "source": [
    "#create values matrix that we need for pipeline:\n",
    "cat1_vals = []\n",
    "for idx in cat1_spikes_set:\n",
    "    yo = int(np.floor(idx[1]))\n",
    "    cat1_vals.append(cat1_values['allEventData'][idx[0],yo-1200:yo+1200])\n",
    "    \n",
    "cat2_vals = []\n",
    "for idx in cat2_spikes_set:\n",
    "    yo = int(np.floor(idx[1]))\n",
    "    cat2_vals.append(cat2_values['allEventData'][idx[0],yo-1200:yo+1200])\n",
    "    \n",
    "cat3_vals = []\n",
    "for idx in cat3_spikes_set:\n",
    "    yo = int(np.floor(idx[1]))\n",
    "    cat3_vals.append(cat3_values['allEventData'][idx[0],yo-1200:yo+1200])\n",
    "    \n",
    "cat4_vals = []\n",
    "for idx in cat4_spikes_set:\n",
    "    yo = int(np.floor(idx[1]))\n",
    "    cat4_vals.append(cat4_values['allEventData'][idx[0],yo-1200:yo+1200])\n",
    "    \n",
    "cat5_vals = []\n",
    "for idx in cat5_spikes_set:\n",
    "    yo = int(np.floor(idx[1]))\n",
    "    cat5_vals.append(cat5_values['allEventData'][idx[0],yo-1200:yo+1200])"
   ]
  },
  {
   "cell_type": "code",
   "execution_count": 44,
   "id": "d0c3e8c8-9430-4e77-b354-d279079467c9",
   "metadata": {},
   "outputs": [],
   "source": [
    "np.warnings.filterwarnings('ignore', category=np.VisibleDeprecationWarning)\n",
    "zero = np.array([])\n",
    "cat1_valsarr = np.array(cat1_vals)\n",
    "cat_1_vals = np.array([cat1_valsarr, zero])\n",
    "cat_1_vals = cat_1_vals.reshape((2,1))\n",
    "\n",
    "cat2_valsarr = np.array(cat2_vals)\n",
    "cat_2_vals = np.array([cat2_valsarr, zero])\n",
    "cat_2_vals = cat_2_vals.reshape((2,1))\n",
    "\n",
    "cat3_valsarr = np.array(cat3_vals)\n",
    "cat_3_vals = np.array([cat3_valsarr, zero])\n",
    "cat_3_vals = cat_3_vals.reshape((2,1))\n",
    "\n",
    "cat4_valsarr = np.array(cat4_vals)\n",
    "cat_4_vals = np.array([cat4_valsarr, zero])\n",
    "cat_4_vals = cat_4_vals.reshape((2,1))\n",
    "\n",
    "cat5_valsarr = np.array(cat5_vals)\n",
    "cat_5_vals = np.array([cat5_valsarr, zero])\n",
    "cat_5_vals = cat_5_vals.reshape((2,1))"
   ]
  },
  {
   "cell_type": "code",
   "execution_count": 53,
   "id": "11db25a4-a6ca-4529-8ae9-f2df241edee2",
   "metadata": {},
   "outputs": [],
   "source": [
    "### SAVES .NPY FILES\n",
    "\n",
    "np.save(\"/Users/carlosaguila/PycharmProjects/CNT_Interictal_Spikes/Cat/cat_values/cat1_values.npy\", cat_1_vals, allow_pickle =True)\n",
    "np.save(\"/Users/carlosaguila/PycharmProjects/CNT_Interictal_Spikes/Cat/cat_values/cat2_values.npy\", cat_2_vals, allow_pickle =True)\n",
    "np.save(\"/Users/carlosaguila/PycharmProjects/CNT_Interictal_Spikes/Cat/cat_values/cat3_values.npy\", cat_3_vals, allow_pickle =True)\n",
    "np.save(\"/Users/carlosaguila/PycharmProjects/CNT_Interictal_Spikes/Cat/cat_values/cat4_values.npy\", cat_4_vals, allow_pickle =True)\n",
    "np.save(\"/Users/carlosaguila/PycharmProjects/CNT_Interictal_Spikes/Cat/cat_values/cat5_values.npy\", cat_5_vals, allow_pickle =True)"
   ]
  },
  {
   "cell_type": "code",
   "execution_count": null,
   "id": "4b78b518-20ac-4ae5-b6d9-9d912fab2e2d",
   "metadata": {},
   "outputs": [],
   "source": [
    "### LOADS .NPY FILES\n",
    "\n",
    "cat1_values = np.load(\"/Users/carlosaguila/PycharmProjects/CNT_Interictal_Spikes/Cat/cat_values/cat1_values.npy\",allow_pickle =True)\n",
    "cat2_values = np.load(\"/Users/carlosaguila/PycharmProjects/CNT_Interictal_Spikes/Cat/cat_values/cat2_values.npy\",allow_pickle =True)\n",
    "cat3_values = np.load(\"/Users/carlosaguila/PycharmProjects/CNT_Interictal_Spikes/Cat/cat_values/cat3_values.npy\",allow_pickle =True)\n",
    "cat4_values = np.load(\"/Users/carlosaguila/PycharmProjects/CNT_Interictal_Spikes/Cat/cat_values/cat4_values.npy\",allow_pickle =True)\n",
    "cat5_values = np.load(\"/Users/carlosaguila/PycharmProjects/CNT_Interictal_Spikes/Cat/cat_values/cat5_values.npy\",allow_pickle =True)"
   ]
  },
  {
   "cell_type": "code",
   "execution_count": 49,
   "id": "a13ccb02-9a67-4d1b-83b0-7217e8ab7bb7",
   "metadata": {},
   "outputs": [
    {
     "data": {
      "text/plain": [
       "<function BufferedWriter.close>"
      ]
     },
     "execution_count": 49,
     "metadata": {},
     "output_type": "execute_result"
    }
   ],
   "source": [
    "### SAVES\n",
    "### CAT VALUES PRE-INDEXED BY GDF\n",
    "file11 = open(\"/Users/carlosaguila/PycharmProjects/CNT_Interictal_Spikes/Cat/cat_values/cat1_values.pkl\", \"wb\") \n",
    "pickle.dump(cat_1_vals, file11)\n",
    "file11.close\n",
    "\n",
    "file21 = open(\"/Users/carlosaguila/PycharmProjects/CNT_Interictal_Spikes/Cat/cat_values/cat2_values.pkl\", \"wb\")\n",
    "pickle.dump(cat_2_vals, file21)\n",
    "file21.close\n",
    "\n",
    "file31 = open(\"/Users/carlosaguila/PycharmProjects/CNT_Interictal_Spikes/Cat/cat_values/cat3_values.pkl\", \"wb\") \n",
    "pickle.dump(cat_3_vals, file31)\n",
    "file31.close\n",
    "\n",
    "file41 = open(\"/Users/carlosaguila/PycharmProjects/CNT_Interictal_Spikes/Cat/cat_values/cat4_values.pkl\", \"wb\") \n",
    "pickle.dump(cat_4_vals, file41)\n",
    "file41.close\n",
    "\n",
    "file51 = open(\"/Users/carlosaguila/PycharmProjects/CNT_Interictal_Spikes/Cat/cat_values/cat5_values.pkl\", \"wb\") \n",
    "pickle.dump(cat_5_vals, file51)\n",
    "file51.close"
   ]
  },
  {
   "cell_type": "code",
   "execution_count": 4,
   "id": "13bf4bb0-ef35-4f18-8f1c-2458c995992d",
   "metadata": {},
   "outputs": [
    {
     "ename": "UnpicklingError",
     "evalue": "invalid load key, '\\x00'.",
     "output_type": "error",
     "traceback": [
      "\u001b[0;31m---------------------------------------------------------------------------\u001b[0m",
      "\u001b[0;31mUnpicklingError\u001b[0m                           Traceback (most recent call last)",
      "\u001b[0;32m/var/folders/j3/ps9_bddj0kg0ds3px8t769_00000gn/T/ipykernel_4847/722817597.py\u001b[0m in \u001b[0;36m<module>\u001b[0;34m\u001b[0m\n\u001b[1;32m      3\u001b[0m \u001b[0;34m\u001b[0m\u001b[0m\n\u001b[1;32m      4\u001b[0m \u001b[0;32mwith\u001b[0m \u001b[0mopen\u001b[0m\u001b[0;34m(\u001b[0m\u001b[0;34m\"/Users/carlosaguila/PycharmProjects/CNT_Interictal_Spikes/Cat/cat_values/cat1_values.pkl\"\u001b[0m\u001b[0;34m,\u001b[0m \u001b[0;34m\"rb\"\u001b[0m\u001b[0;34m)\u001b[0m \u001b[0;32mas\u001b[0m \u001b[0ma1\u001b[0m\u001b[0;34m:\u001b[0m   \u001b[0;31m#Unpickling\u001b[0m\u001b[0;34m\u001b[0m\u001b[0;34m\u001b[0m\u001b[0m\n\u001b[0;32m----> 5\u001b[0;31m     \u001b[0mcat1_values\u001b[0m \u001b[0;34m=\u001b[0m \u001b[0mpickle\u001b[0m\u001b[0;34m.\u001b[0m\u001b[0mload\u001b[0m\u001b[0;34m(\u001b[0m\u001b[0ma1\u001b[0m\u001b[0;34m)\u001b[0m\u001b[0;34m\u001b[0m\u001b[0;34m\u001b[0m\u001b[0m\n\u001b[0m\u001b[1;32m      6\u001b[0m \u001b[0;34m\u001b[0m\u001b[0m\n\u001b[1;32m      7\u001b[0m \u001b[0;32mwith\u001b[0m \u001b[0mopen\u001b[0m\u001b[0;34m(\u001b[0m\u001b[0;34m\"/Users/carlosaguila/PycharmProjects/CNT_Interictal_Spikes/Cat/cat_values/cat2_values.pkl\"\u001b[0m\u001b[0;34m,\u001b[0m \u001b[0;34m\"rb\"\u001b[0m\u001b[0;34m)\u001b[0m \u001b[0;32mas\u001b[0m \u001b[0mb1\u001b[0m\u001b[0;34m:\u001b[0m   \u001b[0;31m# Unpickling\u001b[0m\u001b[0;34m\u001b[0m\u001b[0;34m\u001b[0m\u001b[0m\n",
      "\u001b[0;31mUnpicklingError\u001b[0m: invalid load key, '\\x00'."
     ]
    }
   ],
   "source": [
    "### LOADS \n",
    "### CAT VALUES PRE-INDEXED BY GDF\n",
    "\n",
    "with open(\"/Users/carlosaguila/PycharmProjects/CNT_Interictal_Spikes/Cat/cat_values/cat1_values.pkl\", \"rb\") as a1:   #Unpickling\n",
    "    cat1_values = pickle.load(a1)\n",
    "    \n",
    "with open(\"/Users/carlosaguila/PycharmProjects/CNT_Interictal_Spikes/Cat/cat_values/cat2_values.pkl\", \"rb\") as b1:   # Unpickling\n",
    "    cat2_values = pickle.load(b1)\n",
    "    \n",
    "with open(\"/Users/carlosaguila/PycharmProjects/CNT_Interictal_Spikes/Cat/cat_values/cat3_values.pkl\", \"rb\") as c1:   #Unpickling\n",
    "    cat3_values = pickle.load(c1)\n",
    "    \n",
    "with open(\"/Users/carlosaguila/PycharmProjects/CNT_Interictal_Spikes/Cat/cat_values/cat4_values.pkl\", \"rb\") as d1:   # Unpickling\n",
    "    cat4_values = pickle.load(d1)\n",
    "    \n",
    "with open(\"/Users/carlosaguila/PycharmProjects/CNT_Interictal_Spikes/Cat/cat_values/cat5_values.pkl\", \"rb\") as e1:   # Unpickling\n",
    "    cat5_values = pickle.load(e1)"
   ]
  },
  {
   "cell_type": "code",
   "execution_count": null,
   "id": "ac91d033-8b0d-4b6c-9c73-18d0c0c672de",
   "metadata": {},
   "outputs": [],
   "source": [
    "cat1_chLabels = np.linspace(1,48,48)\n",
    "cat2_chLabels = np.linspace(1,48,48)\n",
    "cat3_chLabels = np.linspace(1,64,64)\n",
    "cat4_chLabels = np.linspace(1,64,64)\n",
    "cat5_chLabels = np.linspace(1,64,64)"
   ]
  },
  {
   "cell_type": "code",
   "execution_count": null,
   "id": "31b24b37-8de1-47c0-9379-fa61211e51e9",
   "metadata": {},
   "outputs": [],
   "source": []
  }
 ],
 "metadata": {
  "kernelspec": {
   "display_name": "Python 3 (ipykernel)",
   "language": "python",
   "name": "python3"
  },
  "language_info": {
   "codemirror_mode": {
    "name": "ipython",
    "version": 3
   },
   "file_extension": ".py",
   "mimetype": "text/x-python",
   "name": "python",
   "nbconvert_exporter": "python",
   "pygments_lexer": "ipython3",
   "version": "3.9.7"
  }
 },
 "nbformat": 4,
 "nbformat_minor": 5
}

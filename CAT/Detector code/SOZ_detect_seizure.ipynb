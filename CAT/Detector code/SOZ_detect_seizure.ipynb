{
 "cells": [
  {
   "cell_type": "code",
   "execution_count": 1,
   "id": "18d1eb19-9307-42fb-ab86-ad9013918db1",
   "metadata": {},
   "outputs": [],
   "source": [
    "#establishing environment\n",
    "import matplotlib.pyplot as plt\n",
    "import numpy as np\n",
    "import pandas as pd\n",
    "import pickle\n",
    "import scipy\n",
    "from scipy.stats import pearsonr, ttest_rel, ttest_ind\n",
    "from scipy import signal as sig\n",
    "import matplotlib.patches as mpatches\n",
    "from scipy.io import loadmat, savemat\n",
    "from ieeg.auth import Session"
   ]
  },
  {
   "cell_type": "code",
   "execution_count": 2,
   "id": "c64435a8-ab17-4514-a84c-8c3107c0acb9",
   "metadata": {},
   "outputs": [],
   "source": [
    "#loads all the cat spikes before they are in the GDF\n",
    "#NOT NECESSARY TO LOAD AFTER GDFS ARE CREATED\n",
    "\n",
    "catspikes = loadmat('/Users/carlosaguila/PycharmProjects/CNT_Interictal_Spikes/Cat/Bink_files/catspikes.mat')\n",
    "numSpikes = catspikes['numSpikes'][0] #spike count per event\n",
    "spikeStart = catspikes['spikeStart'][0] #array of where the spike starts\n",
    "spikeStop = catspikes['spikeStop'][0] #spike ends\n",
    "evStart = catspikes['evStart'][0] #event starts\n",
    "evStop = catspikes['evStop'][0] #event stops"
   ]
  },
  {
   "cell_type": "code",
   "execution_count": 5,
   "id": "8d9327e9-ee20-4800-b858-595d0549419a",
   "metadata": {},
   "outputs": [],
   "source": [
    "seizure_leaders_C1 = []\n",
    "seizure_leaders_C2 = []\n",
    "seizure_leaders_C3 = []\n",
    "seizure_leaders_C4 = []\n",
    "seizure_leaders_C5 = []\n",
    "\n",
    "for i in range(len(numSpikes)):\n",
    "    for j in range(len(numSpikes[i][0])):\n",
    "        for k in range(len(numSpikes[i][0][j][0])):\n",
    "            if numSpikes[i][0][j][0][k] >= 20:\n",
    "                if i == 0:\n",
    "                    seizure_leaders_C1.append(np.array([j,k,spikeStart[i][0][j][0][k][0][0], evStart[i][0][j][0][k]]))\n",
    "                if i == 1:\n",
    "                    seizure_leaders_C2.append(np.array([j,k,spikeStart[i][0][j][0][k][0][0], evStart[i][0][j][0][k]]))\n",
    "                if i == 2:\n",
    "                    seizure_leaders_C3.append(np.array([j,k,spikeStart[i][0][j][0][k][0][0], evStart[i][0][j][0][k]]))\n",
    "                if i == 3:\n",
    "                    seizure_leaders_C4.append(np.array([j,k,spikeStart[i][0][j][0][k][0][0], evStart[i][0][j][0][k]]))\n",
    "                if i == 4:\n",
    "                    seizure_leaders_C5.append(np.array([j,k,spikeStart[i][0][j][0][k][0][0], evStart[i][0][j][0][k]]))"
   ]
  },
  {
   "cell_type": "code",
   "execution_count": 210,
   "id": "12860765-86de-4e14-8fef-b3b94a96169a",
   "metadata": {},
   "outputs": [],
   "source": [
    "def find_sz_start(CH,cat_experiment):\n",
    "    sz_start_detectch = []\n",
    "    for array in cat_experiment:\n",
    "        if array[0] == CH:\n",
    "            sz_start_detectch.append([array[2]])\n",
    "    return np.array(sz_start_detectch)"
   ]
  },
  {
   "cell_type": "code",
   "execution_count": 227,
   "id": "403d59ae-eb8e-41cf-b175-762079eef182",
   "metadata": {},
   "outputs": [],
   "source": [
    "cats = [seizure_leaders_C1,seizure_leaders_C2,seizure_leaders_C3,seizure_leaders_C4,seizure_leaders_C5]\n",
    "SOZ = [3,2,2,2,5]\n",
    "elec = [range(48),range(48),range(64),range(64),range(64)]\n",
    "concat_sz_C1 = [i[2] for i in seizure_leaders_C1]\n",
    "fs = 2000\n",
    "min_2 = fs*3*60;"
   ]
  },
  {
   "cell_type": "code",
   "execution_count": 228,
   "id": "637930cf-ed97-410f-bbda-30a09dda4496",
   "metadata": {},
   "outputs": [],
   "source": [
    "#here we will try to find time values underneath the reference one.\n",
    "\n",
    "sz_start_detectch_C1 = find_sz_start(3,seizure_leaders_C1) #gives me a list with seizure points captured on electrode 4 (SOZ)\n",
    "idx_possible_sz = []\n",
    "\n",
    "\n",
    "for i in np.arange(0,len(sz_start_detectch_C1),1):\n",
    "    temp = []\n",
    "    find = np.where((concat_sz_C1 > (sz_start_detectch_C1[i]-min_2)) & (concat_sz_C1 < sz_start_detectch_C1[i]))[0]\n",
    "    for j in find:\n",
    "        temp.append(concat_sz_C1[j])\n",
    "    temp2 = np.min(temp)        \n",
    "    idx_possible_sz.append([find,temp2,np.where(temp == temp2)[0]])"
   ]
  },
  {
   "cell_type": "code",
   "execution_count": 229,
   "id": "992bb47a-b33a-4f3c-a475-b28e8e5478dd",
   "metadata": {},
   "outputs": [],
   "source": [
    "poss_idxs = []\n",
    "for i in idx_possible_sz:\n",
    "    poss_idxs.append(i[0][i[2]])"
   ]
  },
  {
   "cell_type": "code",
   "execution_count": 230,
   "id": "aa2428f3-be20-4809-8c63-fd4293581d0f",
   "metadata": {},
   "outputs": [
    {
     "name": "stdout",
     "output_type": "stream",
     "text": [
      "[array([  0,   1,   2,   3,  56,  57,  58,  59, 113, 114, 115, 169, 170,\n",
      "       171, 225, 226, 227, 228, 266, 267, 268, 269, 321, 322, 323, 377,\n",
      "       378, 379, 433, 434, 435, 465, 518, 519, 520]), 1988988, array([0])]\n"
     ]
    }
   ],
   "source": [
    "print(idx_possible_sz[3])"
   ]
  },
  {
   "cell_type": "code",
   "execution_count": 231,
   "id": "37d2992c-5be2-488e-8772-9da698313d83",
   "metadata": {},
   "outputs": [
    {
     "name": "stdout",
     "output_type": "stream",
     "text": [
      "[array([112]), array([112]), array([0]), array([0]), array([0]), array([170]), array([170]), array([2]), array([3]), array([60]), array([174]), array([6]), array([7]), array([7]), array([942]), array([ 943, 1025]), array([179, 276]), array([1026, 1070]), array([629]), array([1027, 1071]), array([279]), array([1029, 1073]), array([631]), array([1075]), array([1032, 1076]), array([1033, 1077]), array([  20, 1034]), array([632]), array([633]), array([1036]), array([1037]), array([1039, 1083]), array([1040, 1084]), array([591]), array([1042, 1086]), array([253]), array([1044]), array([635]), array([1046, 1090]), array([1047, 1091]), array([1048, 1092]), array([1049, 1093]), array([1050, 1094]), array([1051, 1095]), array([1052]), array([636]), array([1054, 1098]), array([1055, 1099, 1135]), array([1154]), array([1057, 1101]), array([1156]), array([1103]), array([1060, 1104]), array([1105]), array([1062, 1106, 1142]), array([1063, 1107, 1143])]\n"
     ]
    }
   ],
   "source": [
    "print(poss_idxs)"
   ]
  },
  {
   "cell_type": "code",
   "execution_count": 237,
   "id": "2788039c-1620-49fc-ad18-5c24c7654935",
   "metadata": {},
   "outputs": [
    {
     "name": "stdout",
     "output_type": "stream",
     "text": [
      "[2, 2, 0, 0, 0, 3, 3, 0, 0, 1, 3, 0, 0, 0, 41, 41, 43, 3, 5, 43, 44, 32, 43, 44, 5, 43, 44, 32, 44, 43, 44, 43, 44, 0, 43, 32, 32, 43, 43, 43, 44, 43, 44, 15, 43, 44, 4, 43, 32, 43, 44, 43, 44, 43, 44, 43, 44, 43, 44, 43, 44, 43, 32, 43, 44, 43, 44, 46, 47, 43, 44, 47, 44, 43, 44, 44, 43, 44, 46, 43, 44, 46]\n",
      "[2, 2, 0, 0, 0, 3, 3, 0, 0, 1, 3, 0, 0, 0, 3, 5, 32, 5, 32, 0, 32, 32, 15, 4, 32, 32]\n"
     ]
    }
   ],
   "source": [
    "electrodes_in_q_int = []\n",
    "elec_in_q = []\n",
    "for idxs in poss_idxs:\n",
    "    for i in idxs:\n",
    "        electrodes_in_q_int.append(seizure_leaders_C1[i])\n",
    "\n",
    "for array in electrodes_in_q_int:\n",
    "    elec_in_q.append(array[0])\n",
    "    \n",
    "def remove_depth(elec_in_q):\n",
    "    elecs = [x for x in elec_in_q if (x<33)]\n",
    "    return elecs\n",
    "\n",
    "print(elec_in_q)\n",
    "print(remove_depth(elec_in_q))"
   ]
  },
  {
   "cell_type": "markdown",
   "id": "983f9d2d-691e-469e-882c-997ed8b988af",
   "metadata": {},
   "source": [
    "def most_frequent(List):\n",
    "    counter = 0\n",
    "    num = List[0]\n",
    "     \n",
    "    for i in List:\n",
    "        curr_frequency = List.count(i)\n",
    "        if(curr_frequency> counter):\n",
    "            counter = curr_frequency\n",
    "            num = i\n",
    " \n",
    "    return num\n",
    "\n",
    "print(most_frequent(elec_in_q))\n",
    "print(most_frequent(remove_depth(elec_in_q)))"
   ]
  },
  {
   "cell_type": "markdown",
   "id": "f585fe5f-4582-43ab-888e-cf4837255107",
   "metadata": {},
   "source": [
    "----"
   ]
  },
  {
   "cell_type": "code",
   "execution_count": 259,
   "id": "a18c24e5-72d8-4c78-8d61-d62de416db85",
   "metadata": {},
   "outputs": [],
   "source": [
    "#Same thing but with cat 2\n",
    "\n",
    "def find_SOZ_SZ_referenced(seizure_leaders, detectCH):\n",
    "    concat_sz_C1 = [i[2] for i in seizure_leaders]\n",
    "    sz_start_detectch_C1 = find_sz_start(detectCH,seizure_leaders) #gives me a list with seizure points captured on electrode 4 (SOZ)\n",
    "    idx_possible_sz = []\n",
    "\n",
    "\n",
    "    for i in np.arange(0,len(sz_start_detectch_C1),1):\n",
    "        temp = []\n",
    "        find = np.where((concat_sz_C1 > (sz_start_detectch_C1[i]-min_2)) & (concat_sz_C1 < sz_start_detectch_C1[i]))[0]\n",
    "        for j in find:\n",
    "            temp.append(concat_sz_C1[j])\n",
    "        if temp != []:   \n",
    "            temp2 = np.min(temp)        \n",
    "            idx_possible_sz.append([find,temp2,np.where(temp == temp2)[0]])\n",
    "\n",
    "    poss_idxs = []\n",
    "    for i in idx_possible_sz:\n",
    "        poss_idxs.append(i[0][i[2]])\n",
    "\n",
    "    electrodes_in_q_int = []\n",
    "    elec_in_q = []\n",
    "    for idxs in poss_idxs:\n",
    "        for i in idxs:\n",
    "            electrodes_in_q_int.append(seizure_leaders[i])\n",
    "\n",
    "    for array in electrodes_in_q_int:\n",
    "        elec_in_q.append(array[0])\n",
    "\n",
    "    def remove_depth(elec_in_q):\n",
    "        elecs = [x for x in elec_in_q if (x<33)]\n",
    "        return elecs\n",
    "    \n",
    "    return print(elec_in_q), print(remove_depth(elec_in_q)), print(most_frequent(elec_in_q)), print(most_frequent(remove_depth(elec_in_q)))"
   ]
  },
  {
   "cell_type": "code",
   "execution_count": 260,
   "id": "4e575cb1-58b8-4146-992f-87b3590cc3e5",
   "metadata": {},
   "outputs": [
    {
     "name": "stdout",
     "output_type": "stream",
     "text": [
      "[44, 46, 47, 39, 38, 38, 2, 1, 2, 15, 1, 2, 1, 2, 1, 2, 2, 2, 2, 2, 2, 1, 2, 2, 2, 2, 2, 1, 2, 2, 42, 40, 45, 47, 1, 1, 2, 2, 44, 45, 1, 2, 6, 46, 47, 42, 2, 1, 14, 39, 4, 2, 2, 40, 2, 2, 2, 2, 38, 2, 14, 2, 2, 2, 1, 2, 39, 11, 2, 2, 39, 39, 19, 2, 43, 2, 2, 2, 2, 44, 44, 45, 43, 44, 45, 46, 44, 45, 46, 44, 45, 44, 45, 46, 43, 44, 45, 45, 44, 45, 46, 44, 45, 46, 42, 44, 45, 47, 42, 7, 45, 43, 45, 44, 45, 47, 44, 45, 47, 45, 46, 45, 44, 45, 46, 7, 44, 45, 46, 47, 45, 43, 44, 45, 46, 47, 42, 44, 45, 46, 47, 45, 47, 44, 45, 46, 47, 44, 45, 36, 36, 36, 45, 47, 42, 45, 46, 47, 45, 47, 43, 44, 45, 46, 46, 44, 45, 46, 47, 42]\n",
      "[2, 1, 2, 15, 1, 2, 1, 2, 1, 2, 2, 2, 2, 2, 2, 1, 2, 2, 2, 2, 2, 1, 2, 2, 1, 1, 2, 2, 1, 2, 6, 2, 1, 14, 4, 2, 2, 2, 2, 2, 2, 2, 14, 2, 2, 2, 1, 2, 11, 2, 2, 19, 2, 2, 2, 2, 2, 7, 7]\n",
      "2\n",
      "2\n"
     ]
    },
    {
     "data": {
      "text/plain": [
       "(None, None, None, None)"
      ]
     },
     "execution_count": 260,
     "metadata": {},
     "output_type": "execute_result"
    }
   ],
   "source": [
    "find_SOZ_SZ_referenced(seizure_leaders_C2, 2)"
   ]
  },
  {
   "cell_type": "code",
   "execution_count": 261,
   "id": "4088a218-3818-4ad9-9684-499ac61355b5",
   "metadata": {},
   "outputs": [
    {
     "name": "stdout",
     "output_type": "stream",
     "text": [
      "[14, 38, 29, 29, 24, 24, 5, 6, 54, 24]\n",
      "[14, 29, 29, 24, 24, 5, 6, 24]\n",
      "24\n",
      "24\n"
     ]
    },
    {
     "data": {
      "text/plain": [
       "(None, None, None, None)"
      ]
     },
     "execution_count": 261,
     "metadata": {},
     "output_type": "execute_result"
    }
   ],
   "source": [
    "find_SOZ_SZ_referenced(seizure_leaders_C3, 2)"
   ]
  },
  {
   "cell_type": "code",
   "execution_count": 262,
   "id": "2af4c8fb-f854-421c-8a63-77684982dc7e",
   "metadata": {},
   "outputs": [
    {
     "name": "stdout",
     "output_type": "stream",
     "text": [
      "[42, 41, 0, 0, 40, 33, 38, 39, 38, 39, 44, 44, 38, 37, 38, 39, 0, 38, 18, 39, 45, 18, 37, 38, 39, 38, 5, 14, 14, 43, 38, 37, 45, 43, 37, 38, 45, 47, 40, 9, 34, 38, 38, 17, 34, 35, 39, 43, 38, 39, 45, 46, 47, 37, 38, 38, 33, 38, 39, 44, 38, 44, 45, 38, 37, 37, 45, 38, 36, 18, 43, 44, 37, 39, 37, 37, 33, 14, 43, 37, 38, 39, 39, 38, 38, 39, 1, 35, 37, 10, 14, 45, 14, 6, 39, 38, 37, 43, 46]\n",
      "[0, 0, 0, 18, 18, 5, 14, 14, 9, 17, 18, 14, 1, 10, 14, 14, 6]\n",
      "38\n",
      "14\n"
     ]
    },
    {
     "data": {
      "text/plain": [
       "(None, None, None, None)"
      ]
     },
     "execution_count": 262,
     "metadata": {},
     "output_type": "execute_result"
    }
   ],
   "source": [
    "find_SOZ_SZ_referenced(seizure_leaders_C4, 2)"
   ]
  },
  {
   "cell_type": "code",
   "execution_count": 263,
   "id": "2fe88848-691c-41e4-b063-be6cc68b456a",
   "metadata": {},
   "outputs": [
    {
     "name": "stdout",
     "output_type": "stream",
     "text": [
      "[9, 9, 9, 63, 39, 9, 44, 44, 9, 0, 0, 27, 29, 35, 36, 37, 35, 36, 37, 38, 39]\n",
      "[9, 9, 9, 9, 9, 0, 0, 27, 29]\n",
      "9\n",
      "9\n"
     ]
    },
    {
     "data": {
      "text/plain": [
       "(None, None, None, None)"
      ]
     },
     "execution_count": 263,
     "metadata": {},
     "output_type": "execute_result"
    }
   ],
   "source": [
    "find_SOZ_SZ_referenced(seizure_leaders_C5, 5)"
   ]
  },
  {
   "cell_type": "markdown",
   "id": "553cb645-557b-450e-8031-5cb1b17d850b",
   "metadata": {},
   "source": [
    "----"
   ]
  },
  {
   "cell_type": "markdown",
   "id": "5cc451d9-6d7a-4bf3-9aa9-c81130015d89",
   "metadata": {},
   "source": [
    "Now - we will equate the referenced channel to the channel with MOST seizures and see if it changes."
   ]
  },
  {
   "cell_type": "code",
   "execution_count": 268,
   "id": "db7c3628-cd2b-47a0-a148-b0c697c0b2a9",
   "metadata": {},
   "outputs": [],
   "source": [
    "#find electrode with most seizures\n",
    "#we would want to count most_frequent but for electrodes in the seizure_leaders\n",
    "\n",
    "concat_elec_C1 = [i[0] for i in seizure_leaders_C1]\n",
    "concat_elec_C2 = [i[0] for i in seizure_leaders_C2]\n",
    "concat_elec_C3 = [i[0] for i in seizure_leaders_C3]\n",
    "concat_elec_C4 = [i[0] for i in seizure_leaders_C4]\n",
    "concat_elec_C5 = [i[0] for i in seizure_leaders_C5]\n",
    "\n",
    "max_sz_elec = [most_frequent(concat_elec_C1),most_frequent(concat_elec_C2),most_frequent(concat_elec_C3),most_frequent(concat_elec_C4),most_frequent(concat_elec_C5)] \n",
    "max_sz_elec_noDE = [most_frequent(remove_depth(concat_elec_C1)),most_frequent(remove_depth(concat_elec_C2)),most_frequent(remove_depth(concat_elec_C3)),most_frequent(remove_depth(concat_elec_C4)),most_frequent(remove_depth(concat_elec_C5))]"
   ]
  },
  {
   "cell_type": "code",
   "execution_count": 269,
   "id": "4bf3710d-c764-442f-a15b-90f7bae45f46",
   "metadata": {},
   "outputs": [
    {
     "name": "stdout",
     "output_type": "stream",
     "text": [
      "[2, 2, 38, 45, 9]\n",
      "[2, 2, 6, 32, 9]\n"
     ]
    }
   ],
   "source": [
    "print(max_sz_elec)\n",
    "print(max_sz_elec_noDE)"
   ]
  },
  {
   "cell_type": "code",
   "execution_count": 270,
   "id": "5eb0ede8-5706-41e3-8618-1e58d7f81f08",
   "metadata": {},
   "outputs": [
    {
     "name": "stdout",
     "output_type": "stream",
     "text": [
      "[2, 2, 0, 0, 0, 3, 3, 0, 0, 1, 3, 0, 0, 0, 41, 41, 43, 3, 5, 43, 44, 32, 43, 44, 5, 43, 44, 32, 44, 43, 44, 43, 44, 0, 43, 32, 32, 43, 43, 43, 44, 43, 44, 15, 43, 44, 4, 43, 32, 43, 44, 43, 44, 43, 44, 43, 44, 43, 44, 43, 44, 43, 32, 43, 44, 43, 44, 46, 47, 43, 44, 47, 44, 43, 44, 44, 43, 44, 46, 43, 44, 46]\n",
      "[2, 2, 0, 0, 0, 3, 3, 0, 0, 1, 3, 0, 0, 0, 3, 5, 32, 5, 32, 0, 32, 32, 15, 4, 32, 32]\n",
      "43\n",
      "0\n"
     ]
    },
    {
     "data": {
      "text/plain": [
       "(None, None, None, None)"
      ]
     },
     "execution_count": 270,
     "metadata": {},
     "output_type": "execute_result"
    }
   ],
   "source": [
    "find_SOZ_SZ_referenced(seizure_leaders_C1, max_sz_elec_noDE[0])"
   ]
  },
  {
   "cell_type": "code",
   "execution_count": 271,
   "id": "bbbc4b56-ef8d-461f-9d9d-4d323f1f989e",
   "metadata": {},
   "outputs": [
    {
     "name": "stdout",
     "output_type": "stream",
     "text": [
      "[44, 46, 47, 39, 38, 38, 2, 1, 2, 15, 1, 2, 1, 2, 1, 2, 2, 2, 2, 2, 2, 1, 2, 2, 2, 2, 2, 1, 2, 2, 42, 40, 45, 47, 1, 1, 2, 2, 44, 45, 1, 2, 6, 46, 47, 42, 2, 1, 14, 39, 4, 2, 2, 40, 2, 2, 2, 2, 38, 2, 14, 2, 2, 2, 1, 2, 39, 11, 2, 2, 39, 39, 19, 2, 43, 2, 2, 2, 2, 44, 44, 45, 43, 44, 45, 46, 44, 45, 46, 44, 45, 44, 45, 46, 43, 44, 45, 45, 44, 45, 46, 44, 45, 46, 42, 44, 45, 47, 42, 7, 45, 43, 45, 44, 45, 47, 44, 45, 47, 45, 46, 45, 44, 45, 46, 7, 44, 45, 46, 47, 45, 43, 44, 45, 46, 47, 42, 44, 45, 46, 47, 45, 47, 44, 45, 46, 47, 44, 45, 36, 36, 36, 45, 47, 42, 45, 46, 47, 45, 47, 43, 44, 45, 46, 46, 44, 45, 46, 47, 42]\n",
      "[2, 1, 2, 15, 1, 2, 1, 2, 1, 2, 2, 2, 2, 2, 2, 1, 2, 2, 2, 2, 2, 1, 2, 2, 1, 1, 2, 2, 1, 2, 6, 2, 1, 14, 4, 2, 2, 2, 2, 2, 2, 2, 14, 2, 2, 2, 1, 2, 11, 2, 2, 19, 2, 2, 2, 2, 2, 7, 7]\n",
      "2\n",
      "2\n"
     ]
    },
    {
     "data": {
      "text/plain": [
       "(None, None, None, None)"
      ]
     },
     "execution_count": 271,
     "metadata": {},
     "output_type": "execute_result"
    }
   ],
   "source": [
    "find_SOZ_SZ_referenced(seizure_leaders_C2, max_sz_elec_noDE[1])"
   ]
  },
  {
   "cell_type": "code",
   "execution_count": 272,
   "id": "47a42310-c040-435a-ad19-a218383ccf78",
   "metadata": {},
   "outputs": [
    {
     "name": "stdout",
     "output_type": "stream",
     "text": [
      "[14, 38, 29, 29, 24, 25, 26, 60, 6, 8, 54, 24]\n",
      "[14, 29, 29, 24, 25, 26, 6, 8, 24]\n",
      "29\n",
      "29\n"
     ]
    },
    {
     "data": {
      "text/plain": [
       "(None, None, None, None)"
      ]
     },
     "execution_count": 272,
     "metadata": {},
     "output_type": "execute_result"
    }
   ],
   "source": [
    "find_SOZ_SZ_referenced(seizure_leaders_C3, max_sz_elec_noDE[2])"
   ]
  },
  {
   "cell_type": "code",
   "execution_count": 273,
   "id": "daac93eb-0311-4a24-b812-b014bdb4df4d",
   "metadata": {},
   "outputs": [
    {
     "name": "stdout",
     "output_type": "stream",
     "text": [
      "[44, 0, 37, 38, 0, 33, 38, 39, 44, 44, 37, 38, 39, 0, 38, 40, 0, 14, 39, 45, 40, 37, 38, 39, 38, 5, 14, 14, 43, 38, 33, 5, 38, 37, 45, 43, 37, 38, 45, 47, 43, 36, 38, 38, 39, 44, 10, 40, 9, 34, 38, 38, 17, 34, 35, 39, 43, 38, 39, 45, 46, 47, 18, 37, 38, 37, 38, 37, 37, 38, 38, 33, 38, 39, 44, 38, 34, 44, 45, 38, 33, 38, 39, 37, 37, 37, 38, 45, 38, 38, 33, 18, 46, 37, 39, 46, 37, 37, 33, 14, 19, 37, 38, 39, 1, 39, 14, 38, 15, 38, 21, 33, 4, 43, 0, 2, 2, 0, 45, 15, 43, 35, 38, 37, 43, 45, 47]\n",
      "[0, 0, 0, 0, 14, 5, 14, 14, 5, 10, 9, 17, 18, 18, 14, 19, 1, 14, 15, 21, 4, 0, 2, 2, 0, 15]\n",
      "38\n",
      "0\n"
     ]
    },
    {
     "data": {
      "text/plain": [
       "(None, None, None, None)"
      ]
     },
     "execution_count": 273,
     "metadata": {},
     "output_type": "execute_result"
    }
   ],
   "source": [
    "find_SOZ_SZ_referenced(seizure_leaders_C4, max_sz_elec_noDE[3])"
   ]
  },
  {
   "cell_type": "code",
   "execution_count": 275,
   "id": "231abf4f-e93e-4f1a-8902-5590f37377b6",
   "metadata": {},
   "outputs": [
    {
     "name": "stdout",
     "output_type": "stream",
     "text": [
      "[13, 13, 9, 41, 41, 13, 9, 44, 46, 39, 9, 55, 44, 44, 44, 9, 0, 0, 27, 29, 29, 35, 36, 37, 38, 39]\n",
      "[13, 13, 9, 13, 9, 9, 9, 0, 0, 27, 29, 29]\n",
      "9\n",
      "9\n"
     ]
    },
    {
     "data": {
      "text/plain": [
       "(None, None, None, None)"
      ]
     },
     "execution_count": 275,
     "metadata": {},
     "output_type": "execute_result"
    }
   ],
   "source": [
    "find_SOZ_SZ_referenced(seizure_leaders_C5, max_sz_elec_noDE[4])"
   ]
  },
  {
   "cell_type": "markdown",
   "id": "42998835-d3da-47ee-a085-991857bea5f6",
   "metadata": {},
   "source": [
    "----"
   ]
  },
  {
   "cell_type": "code",
   "execution_count": 286,
   "id": "6b2c5b42-927b-4149-955e-4d433f33137e",
   "metadata": {},
   "outputs": [],
   "source": [
    "#export mat files to run in the sequence code - create gdf\n",
    "\n",
    "gdf_c1 = []\n",
    "gdf_c2 = []\n",
    "gdf_c3 = []\n",
    "gdf_c4 = []\n",
    "gdf_c5 = []\n",
    "\n",
    "for i in range(len(numSpikes)):\n",
    "    for j in range(len(numSpikes[i][0])):\n",
    "        for k in range(len(numSpikes[i][0][j][0])):\n",
    "            if numSpikes[i][0][j][0][k] >= 20:\n",
    "                if i == 0:\n",
    "                    gdf_c1.append(np.array([j,spikeStart[i][0][j][0][k][0][0]]))\n",
    "                if i == 1:\n",
    "                    gdf_c2.append(np.array([j,spikeStart[i][0][j][0][k][0][0]]))\n",
    "                if i == 2:\n",
    "                    gdf_c3.append(np.array([j,spikeStart[i][0][j][0][k][0][0]]))\n",
    "                if i == 3:\n",
    "                    gdf_c4.append(np.array([j,spikeStart[i][0][j][0][k][0][0]]))\n",
    "                if i == 4:\n",
    "                    gdf_c5.append(np.array([j,spikeStart[i][0][j][0][k][0][0]]))\n",
    "                    \n",
    "gdf_c1 = np.vstack(gdf_c1)\n",
    "gdf_c2 = np.vstack(gdf_c2)\n",
    "gdf_c3 = np.vstack(gdf_c3)\n",
    "gdf_c4 = np.vstack(gdf_c4)\n",
    "gdf_c5 = np.vstack(gdf_c5)"
   ]
  },
  {
   "cell_type": "code",
   "execution_count": 287,
   "id": "de7ec9dc-e78c-4801-8841-7c723cf7a535",
   "metadata": {},
   "outputs": [],
   "source": [
    "from scipy.io import loadmat, savemat\n",
    "\n",
    "gdf_array = np.zeros((5,1), dtype=object)\n",
    "gdf_array[0,0] = gdf_c1\n",
    "gdf_array[1,0] = gdf_c2\n",
    "gdf_array[2,0] = gdf_c3\n",
    "gdf_array[3,0] = gdf_c4\n",
    "gdf_array[4,0] = gdf_c5"
   ]
  },
  {
   "cell_type": "code",
   "execution_count": 288,
   "id": "ac9b1cf8-36e3-4b72-ab03-10ffdbb6e112",
   "metadata": {},
   "outputs": [],
   "source": [
    "savemat('/Users/carlosaguila/Downloads/gdf_array_cats.mat', {'gdf_array_cats':gdf_array})"
   ]
  },
  {
   "cell_type": "markdown",
   "id": "a857a6da-499f-4d14-a3c5-997f1b2b59f5",
   "metadata": {},
   "source": [
    "---"
   ]
  },
  {
   "cell_type": "code",
   "execution_count": 327,
   "id": "55a4c2aa-a7d3-40b2-affd-a4fd865920b9",
   "metadata": {},
   "outputs": [],
   "source": [
    "#import\n",
    "\n",
    "sequences = loadmat('/Users/carlosaguila/PycharmProjects/CNT_Interictal_Spikes/Cat/sequences.mat')"
   ]
  },
  {
   "cell_type": "code",
   "execution_count": 328,
   "id": "3b16f2a4-a1b0-4de8-aa44-908bdc900f1e",
   "metadata": {},
   "outputs": [],
   "source": [
    "seqs_c1 = sequences['seqs_c1'][0]\n",
    "seqs_c2 = sequences['seqs_c2'][0]\n",
    "seqs_c3 = sequences['seqs_c3'][0]\n",
    "seqs_c4 = sequences['seqs_c4'][0]\n",
    "seqs_c5 = sequences['seqs_c5'][0]\n"
   ]
  },
  {
   "cell_type": "code",
   "execution_count": 329,
   "id": "58899579-ba9b-4428-85db-6dd4ad4876af",
   "metadata": {},
   "outputs": [],
   "source": [
    "def onset_seqs(sequence):\n",
    "    onset_seqs = []\n",
    "    for seqs in sequence:\n",
    "        onset_seqs.append(seqs[0])\n",
    "    onset_seqs = np.vstack(onset_seqs)\n",
    "    return onset_seqs"
   ]
  },
  {
   "cell_type": "code",
   "execution_count": 330,
   "id": "525a76d5-10ad-4709-93a3-fec0257d5448",
   "metadata": {},
   "outputs": [],
   "source": [
    "onset_sz_c1 = onset_seqs(seqs_c1)\n",
    "onset_sz_c2 = onset_seqs(seqs_c2)\n",
    "onset_sz_c3 = onset_seqs(seqs_c3)\n",
    "onset_sz_c4 = onset_seqs(seqs_c4)\n",
    "onset_sz_c5 = onset_seqs(seqs_c5)"
   ]
  },
  {
   "cell_type": "code",
   "execution_count": 331,
   "id": "a40d10ef-4f23-4ca3-93bd-9b1e7cf04502",
   "metadata": {},
   "outputs": [],
   "source": [
    "onset_elec_c1 = [x[0] for x in onset_sz_c1]\n",
    "onset_elec_c2 = [x[0] for x in onset_sz_c2]\n",
    "onset_elec_c3 = [x[0] for x in onset_sz_c3]\n",
    "onset_elec_c4 = [x[0] for x in onset_sz_c4]\n",
    "onset_elec_c5 = [x[0] for x in onset_sz_c5]"
   ]
  },
  {
   "cell_type": "code",
   "execution_count": 332,
   "id": "f70d39f1-53fb-421d-a596-b7bdd4adcb7e",
   "metadata": {},
   "outputs": [
    {
     "name": "stdout",
     "output_type": "stream",
     "text": [
      "44\n",
      "1\n"
     ]
    },
    {
     "data": {
      "text/plain": [
       "(None, None)"
      ]
     },
     "execution_count": 332,
     "metadata": {},
     "output_type": "execute_result"
    }
   ],
   "source": [
    "#c1\n",
    "print(most_frequent(onset_elec_c1)), print(most_frequent(remove_depth(onset_elec_c1)))"
   ]
  },
  {
   "cell_type": "code",
   "execution_count": 333,
   "id": "139cf024-2c34-4330-bb0a-149392bcb218",
   "metadata": {},
   "outputs": [
    {
     "name": "stdout",
     "output_type": "stream",
     "text": [
      "3\n",
      "3\n"
     ]
    },
    {
     "data": {
      "text/plain": [
       "(None, None)"
      ]
     },
     "execution_count": 333,
     "metadata": {},
     "output_type": "execute_result"
    }
   ],
   "source": [
    "#c2\n",
    "print(most_frequent(onset_elec_c2)), print(most_frequent(remove_depth(onset_elec_c2)))"
   ]
  },
  {
   "cell_type": "code",
   "execution_count": 334,
   "id": "a9288d8c-460e-4cf0-9ec2-3d6357ebf9ce",
   "metadata": {},
   "outputs": [
    {
     "name": "stdout",
     "output_type": "stream",
     "text": [
      "42\n",
      "10\n"
     ]
    },
    {
     "data": {
      "text/plain": [
       "(None, None)"
      ]
     },
     "execution_count": 334,
     "metadata": {},
     "output_type": "execute_result"
    }
   ],
   "source": [
    "#c3\n",
    "print(most_frequent(onset_elec_c3)), print(most_frequent(remove_depth(onset_elec_c3)))"
   ]
  },
  {
   "cell_type": "code",
   "execution_count": 335,
   "id": "b3b58f78-7b42-4e2b-9b9b-a6a3fb2cf2dd",
   "metadata": {},
   "outputs": [
    {
     "name": "stdout",
     "output_type": "stream",
     "text": [
      "39\n",
      "15\n"
     ]
    },
    {
     "data": {
      "text/plain": [
       "(None, None)"
      ]
     },
     "execution_count": 335,
     "metadata": {},
     "output_type": "execute_result"
    }
   ],
   "source": [
    "#c4\n",
    "print(most_frequent(onset_elec_c4)), print(most_frequent(remove_depth(onset_elec_c4)))"
   ]
  },
  {
   "cell_type": "code",
   "execution_count": 336,
   "id": "271ec6f1-a0a3-433f-9f3a-04d0129944fd",
   "metadata": {},
   "outputs": [
    {
     "name": "stdout",
     "output_type": "stream",
     "text": [
      "10\n",
      "10\n"
     ]
    },
    {
     "data": {
      "text/plain": [
       "(None, None)"
      ]
     },
     "execution_count": 336,
     "metadata": {},
     "output_type": "execute_result"
    }
   ],
   "source": [
    "#c5\n",
    "print(most_frequent(onset_elec_c5)), print(most_frequent(remove_depth(onset_elec_c5)))"
   ]
  },
  {
   "cell_type": "code",
   "execution_count": null,
   "id": "22d38f3c-7c8f-4e63-94a3-36781c4fa5c7",
   "metadata": {},
   "outputs": [],
   "source": []
  }
 ],
 "metadata": {
  "kernelspec": {
   "display_name": "Python 3 (ipykernel)",
   "language": "python",
   "name": "python3"
  },
  "language_info": {
   "codemirror_mode": {
    "name": "ipython",
    "version": 3
   },
   "file_extension": ".py",
   "mimetype": "text/x-python",
   "name": "python",
   "nbconvert_exporter": "python",
   "pygments_lexer": "ipython3",
   "version": "3.9.7"
  }
 },
 "nbformat": 4,
 "nbformat_minor": 5
}

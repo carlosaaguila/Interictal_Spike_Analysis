{
 "cells": [
  {
   "cell_type": "code",
   "execution_count": 1,
   "id": "18d1eb19-9307-42fb-ab86-ad9013918db1",
   "metadata": {},
   "outputs": [],
   "source": [
    "#establishing environment\n",
    "import matplotlib.pyplot as plt\n",
    "import numpy as np\n",
    "import pandas as pd\n",
    "import pickle\n",
    "import scipy\n",
    "from scipy.stats import pearsonr, ttest_rel, ttest_ind\n",
    "from scipy import signal as sig\n",
    "import matplotlib.patches as mpatches\n",
    "from scipy.io import loadmat, savemat\n",
    "from ieeg.auth import Session"
   ]
  },
  {
   "cell_type": "code",
   "execution_count": 2,
   "id": "c64435a8-ab17-4514-a84c-8c3107c0acb9",
   "metadata": {},
   "outputs": [],
   "source": [
    "#loads all the cat spikes before they are in the GDF\n",
    "#NOT NECESSARY TO LOAD AFTER GDFS ARE CREATED\n",
    "\n",
    "catspikes = loadmat('/Users/carlosaguila/PycharmProjects/CNT_Interictal_Spikes/Cat/Bink_files/catspikes.mat')\n",
    "numSpikes = catspikes['numSpikes'][0] #spike count per event\n",
    "spikeStart = catspikes['spikeStart'][0] #array of where the spike starts\n",
    "spikeStop = catspikes['spikeStop'][0] #spike ends\n",
    "evStart = catspikes['evStart'][0] #event starts\n",
    "evStop = catspikes['evStop'][0] #event stops"
   ]
  },
  {
   "cell_type": "code",
   "execution_count": 14,
   "id": "432d1778-108b-42de-9073-00906767c0f3",
   "metadata": {},
   "outputs": [
    {
     "data": {
      "text/plain": [
       "array([  1,   1,   1,   1,   2,   3,   3,   3,   3,   2,   3,   8,   4,\n",
       "         4,   4,   9,   4,   9,   7,  11,   8,   1,   7,   6,   8,   4,\n",
       "         6,   8,  10,   5,   4,   5,   8,   5,  12,  11,   5,   6,  12,\n",
       "         7,   6,   5,   7,   5,   5,   5,   6,   6,   5,   7,   9,   8,\n",
       "         7,   7,  10,  10,  10,   9,   8,   9,   8,   9,   9,   7,   7,\n",
       "        11,   8,   9,  85,   4,   5,   5,   7,   5,   6,   8,   7,   8,\n",
       "        94,   4,   5,   8,   6,   6,   6,  10,  95,   5,   6,   8,  78,\n",
       "         2,   4,  83,   4,  90,   3,   1,   6,  69,   1,   8,   6,   6,\n",
       "         4,   8,   5,  90,   4,  87,   2,   4,   8,  10,   5,   8, 105,\n",
       "         1,  71,   4,  85,   1,   4,  51,  89,   4, 100,   8,  87,   7,\n",
       "        96,   9,  82,  87,   9,  86,   9,  69,  10,  86,  11,  89,  83,\n",
       "        81,  86,  11,  78,  85,  75,  82,  12,  89,  11,  88,  78,  81,\n",
       "         9,  88,  86,  75,  74,  75,  75,  71,  77,  71,  83,  80,  65,\n",
       "        80,  85,  86,  71,  84,  80,   1,  77,  79,   1,  86,  71],\n",
       "      dtype=uint8)"
      ]
     },
     "execution_count": 14,
     "metadata": {},
     "output_type": "execute_result"
    }
   ],
   "source": [
    "numSpikes[0][0][0][0]"
   ]
  },
  {
   "cell_type": "code",
   "execution_count": 30,
   "id": "e7be1d00-488e-4fe4-9400-345620c93d0c",
   "metadata": {},
   "outputs": [
    {
     "data": {
      "text/plain": [
       "1"
      ]
     },
     "execution_count": 30,
     "metadata": {},
     "output_type": "execute_result"
    }
   ],
   "source": [
    "(numSpikes[0][0][0][0][0])"
   ]
  },
  {
   "cell_type": "code",
   "execution_count": 58,
   "id": "8d9327e9-ee20-4800-b858-595d0549419a",
   "metadata": {},
   "outputs": [],
   "source": [
    "seizure_leaders_C1 = []\n",
    "seizure_leaders_C2 = []\n",
    "seizure_leaders_C3 = []\n",
    "seizure_leaders_C4 = []\n",
    "seizure_leaders_C5 = []\n",
    "\n",
    "\n",
    "for i in range(len(numSpikes)):\n",
    "    for j in range(len(numSpikes[i][0])):\n",
    "        for k in range(len(numSpikes[i][0][j][0])):\n",
    "            if numSpikes[i][0][j][0][k] >= 20:\n",
    "                if i == 0:\n",
    "                    seizure_leaders_C1.append(np.array([j,k,spikeStart[i][0][j][0][k][0][0], evStart[i][0][j][0][k]]))\n",
    "                if i == 1:\n",
    "                    seizure_leaders_C2.append(np.array([j,k,spikeStart[i][0][j][0][k][0][0], evStart[i][0][j][0][k]]))\n",
    "                if i == 2:\n",
    "                    seizure_leaders_C3.append(np.array([j,k,spikeStart[i][0][j][0][k][0][0], evStart[i][0][j][0][k]]))\n",
    "                if i == 3:\n",
    "                    seizure_leaders_C4.append(np.array([j,k,spikeStart[i][0][j][0][k][0][0], evStart[i][0][j][0][k]]))\n",
    "                if i == 4:\n",
    "                    seizure_leaders_C5.append(np.array([j,k,spikeStart[i][0][j][0][k][0][0], evStart[i][0][j][0][k]]))"
   ]
  },
  {
   "cell_type": "code",
   "execution_count": 65,
   "id": "81a45497-cdbd-4063-ad58-e8b1019a48a2",
   "metadata": {},
   "outputs": [
    {
     "name": "stdout",
     "output_type": "stream",
     "text": [
      "68\n"
     ]
    }
   ],
   "source": []
  },
  {
   "cell_type": "code",
   "execution_count": null,
   "id": "12860765-86de-4e14-8fef-b3b94a96169a",
   "metadata": {},
   "outputs": [],
   "source": []
  }
 ],
 "metadata": {
  "kernelspec": {
   "display_name": "Python 3 (ipykernel)",
   "language": "python",
   "name": "python3"
  },
  "language_info": {
   "codemirror_mode": {
    "name": "ipython",
    "version": 3
   },
   "file_extension": ".py",
   "mimetype": "text/x-python",
   "name": "python",
   "nbconvert_exporter": "python",
   "pygments_lexer": "ipython3",
   "version": "3.9.7"
  }
 },
 "nbformat": 4,
 "nbformat_minor": 5
}

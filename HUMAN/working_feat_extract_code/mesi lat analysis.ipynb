{
 "cells": [
  {
   "cell_type": "code",
   "execution_count": null,
   "metadata": {},
   "outputs": [],
   "source": [
    "#establishing environment\n",
    "import matplotlib.pyplot as plt\n",
    "import numpy as np\n",
    "import math\n",
    "import pandas as pd\n",
    "import pickle\n",
    "import scipy\n",
    "from scipy.stats import pearsonr, ttest_rel, ttest_ind\n",
    "from scipy import signal as sig\n",
    "import matplotlib.patches as mpatches\n",
    "import mat73\n",
    "from scipy.io import loadmat, savemat\n",
    "import mne\n",
    "#conda install git+https://github.com/ieeg-portal/ieegpy.git # Install ieegpy toolbox directly from github\n",
    "from ieeg.auth import Session\n",
    "import random\n",
    "from sklearn.cluster import KMeans\n",
    "import os\n",
    "os.chdir('E:/CNT/Interictal_Spike_Analysis/HUMAN/working_feat_extract_code/functions/')\n",
    "from ied_functions import *\n",
    "import warnings\n",
    "warnings.filterwarnings('ignore')"
   ]
  },
  {
   "cell_type": "code",
   "execution_count": null,
   "metadata": {},
   "outputs": [],
   "source": [
    "data_directory = 'F:\\CNT_data\\pt_database'\n",
    "ptnames = ['HUP105','HUP106','HUP107','HUP111']"
   ]
  },
  {
   "cell_type": "code",
   "execution_count": null,
   "metadata": {},
   "outputs": [],
   "source": [
    "spike, brain_df, ids = load_ptall(ptnames[0],data_directory)\n",
    "print(ids)"
   ]
  },
  {
   "cell_type": "code",
   "execution_count": null,
   "metadata": {},
   "outputs": [],
   "source": [
    "pd.set_option('display.max_rows', 200)\n",
    "display(brain_df)"
   ]
  },
  {
   "cell_type": "code",
   "execution_count": null,
   "metadata": {},
   "outputs": [],
   "source": [
    "#List of regions of interest that make up the mesial temporal lobe and the lateral temporal lobe. \n",
    "\n",
    "roiL_mesial = [' left entorhinal ', ' left parahippocampal ' , ' left hippocampus ', ' left amygdala ', ' left perirhinal ']\n",
    "roiL_lateral = [' left inferior temporal ', ' left superior temporal ', ' left middle temporal ', ' left fusiform ']\n",
    "\n",
    "roiR_mesial = [' right entorhinal ', ' right parahippocampal ', ' right hippocampus ', ' right amygdala ', ' right perirhinal ']\n",
    "roiR_lateral = [' right inferior temporal ', ' right superior temporal ', ' right middle temporal ', ' right fusiform ']\n",
    "\n",
    "roiLmesi_vals, roiLmesi_chnum, roiLmesi_idxch = value_basis(spike, brain_df, roiL_mesial)\n",
    "roiLlat_vals, roiLlat_chnum, roiLlat_idxch = value_basis(spike, brain_df, roiL_lateral)\n",
    "roiRmesi_vals, roiRmesi_chnum, roiRmesi_idxch = value_basis(spike, brain_df, roiR_mesial)\n",
    "roiRlat_vals, roiRlat_chnum, roiRlat_idxch = value_basis(spike, brain_df, roiR_lateral)\n"
   ]
  },
  {
   "cell_type": "code",
   "execution_count": null,
   "metadata": {},
   "outputs": [],
   "source": [
    "print(roiRlat_idxch)\n",
    "spike.chlabels[0][0][roiRlat_idxch]"
   ]
  },
  {
   "cell_type": "code",
   "execution_count": null,
   "metadata": {},
   "outputs": [],
   "source": []
  }
 ],
 "metadata": {
  "kernelspec": {
   "display_name": "base",
   "language": "python",
   "name": "python3"
  },
  "language_info": {
   "codemirror_mode": {
    "name": "ipython",
    "version": 3
   },
   "file_extension": ".py",
   "mimetype": "text/x-python",
   "name": "python",
   "nbconvert_exporter": "python",
   "pygments_lexer": "ipython3",
   "version": "3.9.13 (main, Aug 25 2022, 23:51:50) [MSC v.1916 64 bit (AMD64)]"
  },
  "orig_nbformat": 4,
  "vscode": {
   "interpreter": {
    "hash": "b1593cf004fbd8598ebd13afeb0246e9586f328e65b257eb215a14230cc6212d"
   }
  }
 },
 "nbformat": 4,
 "nbformat_minor": 2
}

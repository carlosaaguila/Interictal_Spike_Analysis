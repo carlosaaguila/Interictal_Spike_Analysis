{
 "cells": [
  {
   "cell_type": "code",
   "execution_count": 1,
   "metadata": {},
   "outputs": [],
   "source": [
    "#establishing environment\n",
    "import matplotlib.pyplot as plt\n",
    "import numpy as np\n",
    "import math\n",
    "import pandas as pd\n",
    "import pickle\n",
    "import scipy\n",
    "from scipy.stats import pearsonr, ttest_rel, ttest_ind\n",
    "from scipy import signal as sig\n",
    "import matplotlib.patches as mpatches\n",
    "import mat73\n",
    "from scipy.io import loadmat, savemat\n",
    "import mne\n",
    "#conda install git+https://github.com/ieeg-portal/ieegpy.git # Install ieegpy toolbox directly from github\n",
    "from ieeg.auth import Session\n",
    "import random\n",
    "from sklearn.cluster import KMeans"
   ]
  },
  {
   "attachments": {},
   "cell_type": "markdown",
   "metadata": {},
   "source": [
    "Identify the regions that we want to look at in order to establish some differences.\n",
    "\n",
    "SOZ vs. nonSOZ\n",
    "cortex vs non-cortex\n",
    "cortex vs. subcortical\n",
    "subcortical vs. subcortical\n",
    "depth vs. grid/strip\n",
    "\n",
    "ALSO: atlas agnostic method in which we form clusters of about 5mm, group electrodes, and create heatmap of morphological feature."
   ]
  },
  {
   "cell_type": "code",
   "execution_count": null,
   "metadata": {},
   "outputs": [],
   "source": []
  }
 ],
 "metadata": {
  "kernelspec": {
   "display_name": "base",
   "language": "python",
   "name": "python3"
  },
  "language_info": {
   "codemirror_mode": {
    "name": "ipython",
    "version": 3
   },
   "file_extension": ".py",
   "mimetype": "text/x-python",
   "name": "python",
   "nbconvert_exporter": "python",
   "pygments_lexer": "ipython3",
   "version": "3.9.13"
  },
  "orig_nbformat": 4,
  "vscode": {
   "interpreter": {
    "hash": "40d3a090f54c6569ab1632332b64b2c03c39dcf918b08424e98f38b5ae0af88f"
   }
  }
 },
 "nbformat": 4,
 "nbformat_minor": 2
}

{
 "cells": [
  {
   "cell_type": "code",
   "execution_count": 1,
   "metadata": {},
   "outputs": [],
   "source": [
    "#establishing environment\n",
    "import matplotlib.pyplot as plt\n",
    "import numpy as np\n",
    "import math\n",
    "import pandas as pd\n",
    "import pickle\n",
    "import scipy\n",
    "from scipy.stats import pearsonr, ttest_rel, ttest_ind\n",
    "from scipy import signal as sig\n",
    "import matplotlib.patches as mpatches\n",
    "import mat73\n",
    "from scipy.io import loadmat, savemat\n",
    "import mne\n",
    "#conda install git+https://github.com/ieeg-portal/ieegpy.git # Install ieegpy toolbox directly from github\n",
    "from ieeg.auth import Session\n",
    "import random\n",
    "from sklearn.cluster import KMeans\n",
    "import os\n",
    "os.chdir('/Users/carlosaguila/PycharmProjects/CNT_Interictal_Spikes/Interictal_Spike_Analysis/HUMAN/working_feat_extract_code/functions')\n",
    "from ied_functions import *"
   ]
  },
  {
   "attachments": {},
   "cell_type": "markdown",
   "metadata": {},
   "source": [
    "Identify the regions that we want to look at in order to establish some differences.\n",
    "\n",
    "- SOZ vs. nonSOZ\n",
    "- cortex vs non-cortex\n",
    "- cortex vs. subcortical\n",
    "- subcortical vs. subcortical\n",
    "- depth vs. grid/strip\n",
    "\n",
    "ALSO: atlas agnostic method in which we form clusters of about 5mm, group electrodes, and create heatmap of morphological feature.\n",
    "\n",
    "FILES:\n",
    "- all_ptids.csv (masterfile, contains r_id, hup_id, whichPts, ptname[same as hup_id])\n",
    "- pt_ids.csv (raw r_id, hup_id)\n",
    "- ptname_all.csv (whichPts, ptname [examples: ''HUP100''])\n",
    "- SOZ_channels.csv (all SOZ electrodes for each pt - however only up to the whichPts = 1:119)\n",
    "- RID.txt (all rids listed)"
   ]
  },
  {
   "cell_type": "code",
   "execution_count": 12,
   "metadata": {},
   "outputs": [],
   "source": [
    "data_directory = '/Users/carlosaguila/PycharmProjects/CNT_Interictal_Spikes/Patient/pt_database'\n",
    "rids_directory = '/Volumes/DATA/Human_Data/CNT_iEEG_BIDS'\n",
    "ptnames = ['HUP102','HUP105','HUP106','HUP107']"
   ]
  },
  {
   "cell_type": "code",
   "execution_count": 11,
   "metadata": {},
   "outputs": [],
   "source": [
    "#working out the RID\n",
    "spike = load_pt(ptnames[0], data_directory)"
   ]
  },
  {
   "cell_type": "code",
   "execution_count": 10,
   "metadata": {},
   "outputs": [
    {
     "name": "stdout",
     "output_type": "stream",
     "text": [
      "SOZ not defined\n"
     ]
    }
   ],
   "source": []
  },
  {
   "cell_type": "code",
   "execution_count": null,
   "metadata": {},
   "outputs": [],
   "source": [
    "def load_ptall(ptname, data_directory):\n",
    "    spike = load_pt(ptname,data_directory)\n",
    "    \n",
    "\n",
    "    return "
   ]
  }
 ],
 "metadata": {
  "kernelspec": {
   "display_name": "base",
   "language": "python",
   "name": "python3"
  },
  "language_info": {
   "codemirror_mode": {
    "name": "ipython",
    "version": 3
   },
   "file_extension": ".py",
   "mimetype": "text/x-python",
   "name": "python",
   "nbconvert_exporter": "python",
   "pygments_lexer": "ipython3",
   "version": "3.9.13"
  },
  "orig_nbformat": 4,
  "vscode": {
   "interpreter": {
    "hash": "40d3a090f54c6569ab1632332b64b2c03c39dcf918b08424e98f38b5ae0af88f"
   }
  }
 },
 "nbformat": 4,
 "nbformat_minor": 2
}

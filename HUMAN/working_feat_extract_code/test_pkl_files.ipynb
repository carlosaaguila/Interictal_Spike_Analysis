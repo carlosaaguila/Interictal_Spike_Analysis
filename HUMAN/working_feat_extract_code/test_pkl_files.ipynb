{
 "cells": [
  {
   "cell_type": "code",
   "execution_count": 1,
   "metadata": {},
   "outputs": [],
   "source": [
    "import pickle\n",
    "import pickle as pkl\n",
    "import numpy as np\n",
    "import pandas as pd\n",
    "import sys, os\n",
    "code_path = os.path.dirname('/mnt/leif/littlab/users/aguilac/Interictal_Spike_Analysis/HUMAN/working_feat_extract_code/functions/')\n",
    "sys.path.append(code_path)\n",
    "from ied_functions import *\n",
    "\n",
    "\n",
    "filename = '/mnt/leif/littlab/users/aguilac/Projects/FC_toolbox/results/mat_output_v2/pickle_spike/HUP141_obj.pkl'\n",
    "with open(filename, 'rb') as f:\n",
    "    x = pickle.load(f)"
   ]
  },
  {
   "cell_type": "code",
   "execution_count": 2,
   "metadata": {},
   "outputs": [
    {
     "name": "stdout",
     "output_type": "stream",
     "text": [
      "(2049, 117)\n"
     ]
    }
   ],
   "source": [
    "print(np.shape(x.values[0]))"
   ]
  },
  {
   "cell_type": "code",
   "execution_count": null,
   "metadata": {},
   "outputs": [],
   "source": []
  }
 ],
 "metadata": {
  "kernelspec": {
   "display_name": "base",
   "language": "python",
   "name": "python3"
  },
  "language_info": {
   "codemirror_mode": {
    "name": "ipython",
    "version": 3
   },
   "file_extension": ".py",
   "mimetype": "text/x-python",
   "name": "python",
   "nbconvert_exporter": "python",
   "pygments_lexer": "ipython3",
   "version": "3.10.8"
  },
  "orig_nbformat": 4,
  "vscode": {
   "interpreter": {
    "hash": "6e1e3f8fd9a881aae7a0b04953fa944c8dc85966ed5ed9722e6969afed1be8c3"
   }
  }
 },
 "nbformat": 4,
 "nbformat_minor": 2
}

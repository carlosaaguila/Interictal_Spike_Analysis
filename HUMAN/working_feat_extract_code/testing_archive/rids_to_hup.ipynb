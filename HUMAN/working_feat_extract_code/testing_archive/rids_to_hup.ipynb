{
 "cells": [
  {
   "cell_type": "code",
   "execution_count": 69,
   "metadata": {},
   "outputs": [],
   "source": [
    "#establishing environment\n",
    "import matplotlib.pyplot as plt\n",
    "import numpy as np\n",
    "import math\n",
    "import pandas as pd\n",
    "import pickle\n",
    "import matplotlib.patches as mpatches\n",
    "import mat73\n",
    "from scipy.io import loadmat, savemat\n",
    "from ieeg.auth import Session\n",
    "import random"
   ]
  },
  {
   "cell_type": "code",
   "execution_count": 70,
   "metadata": {},
   "outputs": [],
   "source": [
    "list_dir = '/Users/carlosaguila/PycharmProjects/CNT_Interictal_Spikes/Patient/'\n",
    "\n",
    "#load list of all RIDs and HUP ids from RedCap\n",
    "all_ids = pd.read_csv(list_dir + 'pt_database/pt_data/pt_ids.csv')\n",
    "all_ids['r_id'] = 'sub-RID0' + all_ids['r_id'].astype(str)\n",
    "all_ids['hup_id'] = 'HUP' + all_ids['hup_id'].astype(str)\n",
    "\n",
    "#get all the ieeg_recon patients from Akash\n",
    "ieeg_recon_ids = pd.read_csv(list_dir + 'pt_database/pt_data/RID.txt')\n",
    "\n",
    "#get all ieeg patients from Erin\n",
    "hups = pd.read_csv(list_dir + 'pt_database/pt_data/ptname_all.csv')\n",
    "hups['ptname'] = hups['ptname'].str.replace(\"'\",\"\")\n",
    "\n",
    "#create the final dataframe we want to concatenate all the good stuff to\n",
    "ptid_df = pd.DataFrame()"
   ]
  },
  {
   "cell_type": "code",
   "execution_count": 71,
   "metadata": {},
   "outputs": [],
   "source": [
    "def threeintid(x):\n",
    "    if len(x) == 6:\n",
    "        x.replace('HUP','HUP0') \n",
    "    return x"
   ]
  },
  {
   "cell_type": "code",
   "execution_count": 72,
   "metadata": {},
   "outputs": [],
   "source": [
    "all_ids['hup_id'] = all_ids['hup_id'].apply(lambda x: x.replace('HUP','HUP0') if len(x)==5 else x)"
   ]
  },
  {
   "cell_type": "code",
   "execution_count": 73,
   "metadata": {},
   "outputs": [],
   "source": [
    "#dataframe comprehension\n",
    "#find where the hup_ids from the ieegs match the master list\n",
    "pd.set_option('display.max_rows', 218)\n",
    "ptid_df = (all_ids[['r_id','hup_id']].merge(hups[['whichPts', 'ptname']],\n",
    "                                left_on = ['hup_id'], right_on=['ptname']))\n",
    "\n",
    "ptid_df = ptid_df.sort_values(['whichPts'])"
   ]
  },
  {
   "cell_type": "code",
   "execution_count": null,
   "metadata": {},
   "outputs": [],
   "source": [
    "display(ptid_df)"
   ]
  },
  {
   "cell_type": "code",
   "execution_count": 77,
   "metadata": {},
   "outputs": [],
   "source": [
    "ptid_df['r_id'] = ptid_df['r_id'].apply(lambda x: x.replace('sub-RID','sub-RID0') if len(x)==10 else x)"
   ]
  },
  {
   "cell_type": "code",
   "execution_count": null,
   "metadata": {},
   "outputs": [],
   "source": [
    "display(ptid_df)"
   ]
  },
  {
   "cell_type": "code",
   "execution_count": 79,
   "metadata": {},
   "outputs": [],
   "source": [
    "ptid_df.to_csv(list_dir + 'pt_database/pt_data/all_ptids.csv')"
   ]
  }
 ],
 "metadata": {
  "kernelspec": {
   "display_name": "base",
   "language": "python",
   "name": "python3"
  },
  "language_info": {
   "codemirror_mode": {
    "name": "ipython",
    "version": 3
   },
   "file_extension": ".py",
   "mimetype": "text/x-python",
   "name": "python",
   "nbconvert_exporter": "python",
   "pygments_lexer": "ipython3",
   "version": "3.9.13 (main, Aug 25 2022, 18:29:29) \n[Clang 12.0.0 ]"
  },
  "orig_nbformat": 4,
  "vscode": {
   "interpreter": {
    "hash": "40d3a090f54c6569ab1632332b64b2c03c39dcf918b08424e98f38b5ae0af88f"
   }
  }
 },
 "nbformat": 4,
 "nbformat_minor": 2
}
